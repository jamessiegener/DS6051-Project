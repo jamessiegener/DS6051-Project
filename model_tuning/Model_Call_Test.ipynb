{
 "cells": [
  {
   "cell_type": "code",
   "execution_count": 1,
   "id": "f5de9e3c-d6aa-4684-a2de-657a56dc8d49",
   "metadata": {
    "tags": []
   },
   "outputs": [
    {
     "name": "stderr",
     "output_type": "stream",
     "text": [
<<<<<<< Updated upstream
      "2025-04-15 20:49:01.097766: E external/local_xla/xla/stream_executor/cuda/cuda_fft.cc:467] Unable to register cuFFT factory: Attempting to register factory for plugin cuFFT when one has already been registered\n",
      "WARNING: All log messages before absl::InitializeLog() is called are written to STDERR\n",
      "E0000 00:00:1744764541.515746  965967 cuda_dnn.cc:8579] Unable to register cuDNN factory: Attempting to register factory for plugin cuDNN when one has already been registered\n",
      "E0000 00:00:1744764541.625249  965967 cuda_blas.cc:1407] Unable to register cuBLAS factory: Attempting to register factory for plugin cuBLAS when one has already been registered\n",
      "W0000 00:00:1744764542.630903  965967 computation_placer.cc:177] computation placer already registered. Please check linkage and avoid linking the same target more than once.\n",
      "W0000 00:00:1744764542.630949  965967 computation_placer.cc:177] computation placer already registered. Please check linkage and avoid linking the same target more than once.\n",
      "W0000 00:00:1744764542.630952  965967 computation_placer.cc:177] computation placer already registered. Please check linkage and avoid linking the same target more than once.\n",
      "W0000 00:00:1744764542.630955  965967 computation_placer.cc:177] computation placer already registered. Please check linkage and avoid linking the same target more than once.\n",
      "2025-04-15 20:49:02.666729: I tensorflow/core/platform/cpu_feature_guard.cc:210] This TensorFlow binary is optimized to use available CPU instructions in performance-critical operations.\n",
      "To enable the following instructions: AVX2 FMA, in other operations, rebuild TensorFlow with the appropriate compiler flags.\n"
=======
      "/opt/miniconda3/envs/test/lib/python3.12/site-packages/tqdm/auto.py:21: TqdmWarning: IProgress not found. Please update jupyter and ipywidgets. See https://ipywidgets.readthedocs.io/en/stable/user_install.html\n",
      "  from .autonotebook import tqdm as notebook_tqdm\n"
>>>>>>> Stashed changes
     ]
    }
   ],
   "source": [
    "import pandas as pd\n",
    "from datasets import Dataset\n",
    "import ast\n",
    "from transformers import GPT2Tokenizer, GPT2LMHeadModel\n",
    "from transformers import Trainer, TrainingArguments\n",
    "import os\n",
    "import csv\n",
    "import torch"
   ]
  },
  {
   "cell_type": "code",
   "execution_count": 2,
<<<<<<< Updated upstream
   "id": "615d1e63-3843-4a31-81fd-3a899660776d",
   "metadata": {
    "tags": []
   },
   "outputs": [
    {
     "data": {
      "text/plain": [
       "'/sfs/gpfs/tardis/home/ksg8xy/Documents/DS6051-Project'"
      ]
     },
     "execution_count": 2,
     "metadata": {},
     "output_type": "execute_result"
    }
   ],
   "source": [
    "os.getcwd()"
   ]
  },
  {
   "cell_type": "code",
   "execution_count": 4,
=======
>>>>>>> Stashed changes
   "id": "c2f9b46b-5780-42ca-8d71-7522ff5c4a92",
   "metadata": {
    "tags": []
   },
   "outputs": [],
   "source": [
    "## Import Saved Model and use with generate_playlist function\n",
    "model = GPT2LMHeadModel.from_pretrained(\"./models/gpt2_ids_model\", local_files_only = True)\n",
    "tokenizer = GPT2Tokenizer.from_pretrained(\"./models/gpt2_ids_model\", local_files_only = True)\n",
    "\n",
    "tokenizer.pad_token = tokenizer.eos_token"
   ]
  },
  {
   "cell_type": "code",
<<<<<<< Updated upstream
   "execution_count": 5,
=======
   "execution_count": 16,
>>>>>>> Stashed changes
   "id": "c875e2e3-039d-4a8e-a1db-1af75aeac27c",
   "metadata": {
    "tags": []
   },
   "outputs": [],
   "source": [
    "model.to('mps')\n",
    "def generate_playlist(prompt, max_length=200):\n",
    "    input_text = f\"### Prompt: {prompt}\\n### Playlist:\\n\"\n",
    "    encoded = tokenizer(input_text, return_tensors=\"pt\", return_attention_mask=True)\n",
    "    \n",
    "    input_ids = tokenizer.encode(input_text, return_tensors=\"pt\")\n",
    "    attention_mask = encoded[\"attention_mask\"].to(model.device)\n",
    "\n",
    "    output = model.generate(\n",
    "        input_ids = input_ids.to('mps'),\n",
    "        attention_mask=attention_mask,\n",
    "        max_length=max_length,\n",
    "        temperature=0.9,\n",
    "        top_p=0.95,\n",
    "        do_sample=True,\n",
    "        num_return_sequences=1,\n",
    "        pad_token_id=tokenizer.eos_token_id\n",
    "    )\n",
    "\n",
    "    result = tokenizer.decode(output[0], skip_special_tokens=True)\n",
    "    return result.split(\"### Playlist:\\n\")[1].strip()"
   ]
  },
  {
   "cell_type": "code",
<<<<<<< Updated upstream
   "execution_count": 6,
=======
   "execution_count": 18,
>>>>>>> Stashed changes
   "id": "dcec4039-d941-4235-8066-74143ae6169b",
   "metadata": {
    "tags": []
   },
   "outputs": [
    {
     "name": "stdout",
     "output_type": "stream",
     "text": [
<<<<<<< Updated upstream
      "Crazy Train\n",
      "Dude (Looks Like A Lady)\n",
      "Hotel California - 2013 Remaster\n",
      "You Shook Me All Night Long\n",
      "Hotel California - 2013 Remaster\n",
      "Livin' On A Prayer\n",
      "Have You Ever Seen The Rain\n",
      "Mr. Blue Sky\n",
      "Sultans Of Swing\n",
      "Bohemian Rhapsody - Remastered 2011\n",
      "Aqualung\n",
      "The Boys Are Back In Town\n",
      "Black Dog - Remaster\n",
      "All Along the Watchtower\n",
      "Walk This Way\n",
      "The Final Countdown\n",
      "Black Magic Woman\n",
      "The Chain - 2004 Remaster\n",
      "Paint It, Black\n",
      "Life in the Fast Lane - 2013 Remaster\n",
      "Free Bird\n",
      "Hotel California - 2013 Remaster\n",
      "Riders on the Storm\n",
      "Walk This Way\n",
      "T-Shirt\n",
      "Hotel California - 2013 Remaster\n",
      "You Make My Dreams (Come True)\n",
      "Hotel California - 2013 Remaster\n",
      "Hotel California -\n"
=======
      "GIMME A HUG : Drake\n",
      "Pop It Off : Tyga\n",
      "Rack City : Tyga\n",
      "Bottoms Up (feat. Nicki Minaj) : Trey Songz\n",
      "Country Grammar (Hot Shit) : Nelly\n",
      "Headlines : Drake\n",
      "Faded : Tyga\n",
      "Next Top Model : Don G\n",
      "She Will : Lil Wayne\n",
      "Live Your Life : T.I.\n",
      "Shake That : Eminem\n",
      "We Don't Care : Drake\n",
      "Swimming Pools (Drank) : Kendrick Lamar\n",
      "All The Way Up (feat. Infared) : Fat Joe\n",
      "Day 'N' Nite (nightmare) : Kid Cudi\n",
      "Bartender (feat. Akon) : T-Pain\n",
      "My Chick Bad : Ludacris\n",
      "Hot In Herre : Nelly\n",
      "Low (feat. T-Pain) : Flo Rida\n",
      "Super Bass : Nicki Min\n"
>>>>>>> Stashed changes
     ]
    }
   ],
   "source": [
    "# Try it out!\n",
    "prompt = \"Hype Pregame\"\n",
    "print(generate_playlist(prompt))"
   ]
  },
  {
   "cell_type": "code",
<<<<<<< Updated upstream
   "execution_count": 7,
=======
   "execution_count": 20,
>>>>>>> Stashed changes
   "id": "1b4920d2-1cc4-46b9-b674-74a91518e420",
   "metadata": {
    "tags": []
   },
   "outputs": [],
   "source": [
    "gen = generate_playlist(prompt).split(\"\\n\")"
   ]
  },
  {
   "cell_type": "code",
   "execution_count": 27,
   "id": "57c2b16f",
   "metadata": {},
   "outputs": [
    {
     "data": {
      "text/plain": [
<<<<<<< Updated upstream
       "'/sfs/gpfs/tardis/home/ksg8xy/Documents/DS6051-Project'"
      ]
     },
     "execution_count": 7,
=======
       "['PUFFIN ON ZOOTIEZ',\n",
       " 'Lemonade',\n",
       " 'Takeover',\n",
       " 'Locked out of Heaven',\n",
       " 'Umbrella',\n",
       " 'Dynamite',\n",
       " 'Party In The U.S.A.',\n",
       " 'Only Girl (In The World)',\n",
       " 'All Of The Lights',\n",
       " 'Waves - Robin Schulz Radio Edit',\n",
       " 'Feel So Close - Radio Edit',\n",
       " 'Last Friday Night (T.G.I.F.)',\n",
       " \"Club Can't Handle Me (feat. David Guetta)\",\n",
       " 'TiK ToK',\n",
       " 'Baby',\n",
       " 'Dark Horse',\n",
       " 'Wake Me Up',\n",
       " 'Give Me Everything (feat. Nayer)',\n",
       " 'Turn Me On (']"
      ]
     },
     "execution_count": 27,
>>>>>>> Stashed changes
     "metadata": {},
     "output_type": "execute_result"
    }
   ],
   "source": [
    "[[i.split(\" : \") for i in gen][j][0] for j in range(len(gen))]"
   ]
  },
  {
   "cell_type": "code",
   "execution_count": null,
   "id": "0674e815-c1cd-4cdc-bfad-8a53a303b88c",
   "metadata": {
    "tags": []
   },
   "outputs": [],
   "source": [
    "print(os.path.exists(\"./models/gpt2_Combined_Song_Artists\"))\n",
    "print(os.listdir(\"./models/gpt2_Combined_Song_Artists\"))"
   ]
  },
  {
   "cell_type": "markdown",
   "id": "27084058-bba0-401d-8ad9-ddd0bf4a4b82",
   "metadata": {},
   "source": [
    "## Test getting song ids"
   ]
  },
  {
   "cell_type": "code",
   "execution_count": 150,
   "id": "aea15ad2-8bd8-426e-b849-9e348e209704",
   "metadata": {
    "tags": []
   },
   "outputs": [
    {
     "data": {
      "text/html": [
       "<div>\n",
       "<style scoped>\n",
       "    .dataframe tbody tr th:only-of-type {\n",
       "        vertical-align: middle;\n",
       "    }\n",
       "\n",
       "    .dataframe tbody tr th {\n",
       "        vertical-align: top;\n",
       "    }\n",
       "\n",
       "    .dataframe thead th {\n",
       "        text-align: right;\n",
       "    }\n",
       "</style>\n",
       "<table border=\"1\" class=\"dataframe\">\n",
       "  <thead>\n",
       "    <tr style=\"text-align: right;\">\n",
       "      <th></th>\n",
       "      <th>Song</th>\n",
       "      <th>Artist</th>\n",
       "      <th>Song_ID</th>\n",
       "    </tr>\n",
       "  </thead>\n",
       "  <tbody>\n",
       "    <tr>\n",
       "      <th>0</th>\n",
       "      <td>Into You</td>\n",
       "      <td>Ariana Grande</td>\n",
       "      <td>2meEiZKWkiN28gITzFwQo5</td>\n",
       "    </tr>\n",
       "    <tr>\n",
       "      <th>1</th>\n",
       "      <td>Glad You Came</td>\n",
       "      <td>The Wanted</td>\n",
       "      <td>1OXfWI3FQMdsKKC6lkvzSx</td>\n",
       "    </tr>\n",
       "    <tr>\n",
       "      <th>2</th>\n",
       "      <td>Dark Horse</td>\n",
       "      <td>Katy Perry</td>\n",
       "      <td>5jrdCoLpJSvHHorevXBATy</td>\n",
       "    </tr>\n",
       "    <tr>\n",
       "      <th>3</th>\n",
       "      <td>Who Knew - Edit</td>\n",
       "      <td>P!nk</td>\n",
       "      <td>4pSPMXaCjbaV3VSzZQYC7H</td>\n",
       "    </tr>\n",
       "    <tr>\n",
       "      <th>4</th>\n",
       "      <td>Closer</td>\n",
       "      <td>The Chainsmokers</td>\n",
       "      <td>7BKLCZ1jbUBVqRi2FVlTVw</td>\n",
       "    </tr>\n",
       "  </tbody>\n",
       "</table>\n",
       "</div>"
      ],
      "text/plain": [
       "              Song            Artist                 Song_ID\n",
       "0         Into You     Ariana Grande  2meEiZKWkiN28gITzFwQo5\n",
       "1    Glad You Came        The Wanted  1OXfWI3FQMdsKKC6lkvzSx\n",
       "2       Dark Horse        Katy Perry  5jrdCoLpJSvHHorevXBATy\n",
       "3  Who Knew - Edit              P!nk  4pSPMXaCjbaV3VSzZQYC7H\n",
       "4           Closer  The Chainsmokers  7BKLCZ1jbUBVqRi2FVlTVw"
      ]
     },
     "execution_count": 150,
     "metadata": {},
     "output_type": "execute_result"
    }
   ],
   "source": [
    "df = pd.read_csv(\"Song_IDs_Table.csv\")\n",
    "df.head()"
   ]
  },
  {
   "cell_type": "code",
   "execution_count": 147,
   "id": "5e0bf216-a1bd-433c-ac99-2cfa4dfa3426",
   "metadata": {
    "tags": []
   },
   "outputs": [
    {
     "name": "stdout",
     "output_type": "stream",
     "text": [
      "Bohemian Rhapsody - Remastered 2011\n",
      "Another Brick in the Wall, Pt. 2\n",
      "Smells Like Teen Spirit\n",
      "You Shook Me All Night Long\n",
      "Walk On the Wild Side\n",
      "Come Together - Remastered 2011\n",
      "Come Together - The Sweater Song\n",
      "Livin' On A Prayer\n",
      "Tiny Dancer\n",
      "Under the Bridge\n",
      "Another Brick in the Wall, Pt. 2\n",
      "Barracuda\n",
      "Carry on Wayward Son\n",
      "Piano Man\n",
      "Dream On\n",
      "Mr. Blue Sky\n",
      "Back In Black\n",
      "The Trooper - Remastered 2009\n",
      "All Along the Watchtower\n",
      "Hotel California - 2013 Remaster\n",
      "Paranoid\n",
      "(I Just) Died In Your Arms\n",
      "Paint It, Black\n",
      "You Shook Me All Night Long\n",
      "Crazy Train\n",
      "Paranoid - 2012 - Remaster\n",
      "Highway to Hell\n",
      "We Will Rock You - Remastered 2011\n",
      "Beat It\n",
      "Eye of the Tiger\n"
     ]
    }
   ],
   "source": [
    "prompt = \"Classic Rock\"\n",
    "playlist = generate_playlist(prompt)\n",
    "print(playlist)"
   ]
  },
  {
   "cell_type": "code",
   "execution_count": 148,
   "id": "955d6a72-9df4-4a4c-80c2-2481acd7bc06",
   "metadata": {
    "tags": []
   },
   "outputs": [],
   "source": [
    "# Needs artist verification - for now only takes first song appearence \n",
    "def song_id_lookup(song_df, output):\n",
    "    songs = output.split('\\n')\n",
    "    songs_clean = [song.split(' -')[0] for song in songs]\n",
    "    \n",
    "    ids, urls = [], []\n",
    "\n",
    "    for song in songs_clean:\n",
    "        matches = df_exploded[df_exploded['Song'].str.contains(song, case=False, na=False, regex=False)]\n",
    "        try:\n",
    "            first_id = matches.iloc[0][\"Song_ID\"]\n",
    "            ids.append(first_id)\n",
    "            urls.append(f\"https://open.spotify.com/track/{first_id}\")\n",
    "        except IndexError:\n",
    "            pass\n",
    "    \n",
    "        \n",
    "    return ids, urls"
   ]
  },
  {
   "cell_type": "code",
   "execution_count": 149,
   "id": "12d7cb9b-830c-476a-a446-3cb8dcb2db40",
   "metadata": {
    "tags": []
   },
   "outputs": [
    {
     "data": {
      "text/plain": [
       "['https://open.spotify.com/track/7tFiyTwD0nx5a1eklYtX2J',\n",
       " 'https://open.spotify.com/track/4gMgiXfqyzZLMhsksGmbQV',\n",
       " 'https://open.spotify.com/track/5ghIJDpPoe3CfHMGu71E6T',\n",
       " 'https://open.spotify.com/track/2SiXAy7TuUkycRVbbWDEpo',\n",
       " 'https://open.spotify.com/track/5p3JunprHCxClJjOmcLV8G',\n",
       " 'https://open.spotify.com/track/2EqlS6tkEnglzr7tkKAAYD',\n",
       " 'https://open.spotify.com/track/2EqlS6tkEnglzr7tkKAAYD',\n",
       " 'https://open.spotify.com/track/0J6mQxEZnlRt9ymzFntA6z',\n",
       " 'https://open.spotify.com/track/1tOsZNJ9F5lEGQmS1n9nAU',\n",
       " 'https://open.spotify.com/track/3d9DChrdc6BOeFsbrZ3Is0',\n",
       " 'https://open.spotify.com/track/4gMgiXfqyzZLMhsksGmbQV',\n",
       " 'https://open.spotify.com/track/4KfSdst7rW39C0sfhArdrz',\n",
       " 'https://open.spotify.com/track/4DMKwE2E2iYDKY01C335Uw',\n",
       " 'https://open.spotify.com/track/01MJ96Vz0KRA4fQVqnjfii',\n",
       " 'https://open.spotify.com/track/5MxNLUsfh7uzROypsoO5qe',\n",
       " 'https://open.spotify.com/track/2RlgNHKcydI9sayD2Df2xp',\n",
       " 'https://open.spotify.com/track/08mG3Y1vljYA6bvDt4Wqkj',\n",
       " 'https://open.spotify.com/track/2pxAohyJptQWTQ5ZRWYijN',\n",
       " 'https://open.spotify.com/track/2aoo2jlRnM3A0NyLQqMN2f',\n",
       " 'https://open.spotify.com/track/40riOy7x9W7GXjyGp4pjAv',\n",
       " 'https://open.spotify.com/track/1Y373MqadDRtclJNdnUXVc',\n",
       " 'https://open.spotify.com/track/4ByEFOBuLXpCqvO1kw8Wdm',\n",
       " 'https://open.spotify.com/track/63T7DJ1AFDD6Bn8VzG6JE8',\n",
       " 'https://open.spotify.com/track/2SiXAy7TuUkycRVbbWDEpo',\n",
       " 'https://open.spotify.com/track/2b9lp5A6CqSzwOrBfAFhof',\n",
       " 'https://open.spotify.com/track/1Y373MqadDRtclJNdnUXVc',\n",
       " 'https://open.spotify.com/track/2zYzyRzz6pRmhPzyfMEC8s',\n",
       " 'https://open.spotify.com/track/4pbJqGIASGPr0ZpGpnWkDn',\n",
       " 'https://open.spotify.com/track/1OOtq8tRnDM8kG2gqUPjAj',\n",
       " 'https://open.spotify.com/track/2HHtWyy5CgaQbC7XSoOb0e']"
      ]
     },
     "execution_count": 149,
     "metadata": {},
     "output_type": "execute_result"
    }
   ],
   "source": [
    "ids, urls = song_id_lookup(df, playlist)\n",
    "urls"
   ]
  },
  {
   "cell_type": "code",
   "execution_count": null,
   "id": "2490aa79-409c-45e6-80d0-ee87b66244a5",
   "metadata": {},
   "outputs": [],
   "source": []
  }
 ],
 "metadata": {
  "kernelspec": {
<<<<<<< Updated upstream
   "display_name": "Python (llms-proj)",
=======
   "display_name": "test",
>>>>>>> Stashed changes
   "language": "python",
   "name": "python3"
  },
  "language_info": {
   "codemirror_mode": {
    "name": "ipython",
    "version": 3
   },
   "file_extension": ".py",
   "mimetype": "text/x-python",
   "name": "python",
   "nbconvert_exporter": "python",
   "pygments_lexer": "ipython3",
   "version": "3.12.3"
  }
 },
 "nbformat": 4,
 "nbformat_minor": 5
}
