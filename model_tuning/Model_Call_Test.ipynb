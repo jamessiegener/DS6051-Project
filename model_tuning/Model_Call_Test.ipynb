{
 "cells": [
  {
   "cell_type": "code",
   "execution_count": null,
   "id": "f5de9e3c-d6aa-4684-a2de-657a56dc8d49",
   "metadata": {
    "tags": []
   },
   "outputs": [
    {
     "name": "stderr",
     "output_type": "stream",
     "text": [
      "/opt/miniconda3/envs/test/lib/python3.12/site-packages/tqdm/auto.py:21: TqdmWarning: IProgress not found. Please update jupyter and ipywidgets. See https://ipywidgets.readthedocs.io/en/stable/user_install.html\n",
      "  from .autonotebook import tqdm as notebook_tqdm\n"
     ]
    }
   ],
   "source": [
    "## Required Libraries\n",
    "import pandas as pd\n",
    "from datasets import Dataset\n",
    "import ast\n",
    "from transformers import GPT2Tokenizer, GPT2LMHeadModel\n",
    "from transformers import Trainer, TrainingArguments\n",
    "import os\n",
    "import csv"
   ]
  },
  {
   "cell_type": "markdown",
   "id": "250de620",
   "metadata": {},
   "source": [
    "## Load FineTuned Model"
   ]
  },
  {
   "cell_type": "code",
   "execution_count": 34,
   "id": "c2f9b46b-5780-42ca-8d71-7522ff5c4a92",
   "metadata": {
    "tags": []
   },
   "outputs": [],
   "source": [
    "## Import Saved Model and use with generate_playlist function\n",
    "model = GPT2LMHeadModel.from_pretrained(\"./models/gpt2_Combined_Song_Artists\", local_files_only = True)\n",
    "tokenizer = GPT2Tokenizer.from_pretrained(\"./models/gpt2_Combined_Song_Artists\", local_files_only = True)\n",
    "\n",
    "tokenizer.pad_token = tokenizer.eos_token"
   ]
  },
  {
   "cell_type": "code",
   "execution_count": null,
   "id": "c875e2e3-039d-4a8e-a1db-1af75aeac27c",
   "metadata": {
    "tags": []
   },
   "outputs": [],
   "source": [
    "model.to('mps') ## Use 'mps' for MacOS with M1/M2 chips\n",
    "                ## Use 'cuda' for NVIDIA GPUs\n",
    "                ## Use 'cpu' for CPU\n",
    "\n",
    "## Generate Playlist Function\n",
    "## This function takes a prompt and generates a playlist of songs based on the input.                \n",
    "def generate_playlist(prompt, max_length=200):\n",
    "    input_text = f\"### Prompt: {prompt}\\n### Playlist:\\n\"\n",
    "    encoded = tokenizer(input_text, return_tensors=\"pt\", return_attention_mask=True)\n",
    "    \n",
    "    input_ids = tokenizer.encode(input_text, return_tensors=\"pt\")\n",
    "    attention_mask = encoded[\"attention_mask\"].to(model.device)\n",
    "\n",
    "    output = model.generate(\n",
    "        input_ids = input_ids.to('mps'),\n",
    "        attention_mask=attention_mask,\n",
    "        max_length=max_length,\n",
    "        temperature=0.9,\n",
    "        top_p=0.95,\n",
    "        do_sample=True,\n",
    "        num_return_sequences=1,\n",
    "        pad_token_id=tokenizer.eos_token_id\n",
    "    )\n",
    "\n",
    "    result = tokenizer.decode(output[0], skip_special_tokens=True)\n",
    "    return result.split(\"### Playlist:\\n\")[1].strip()"
   ]
  },
  {
   "cell_type": "markdown",
   "id": "0eabcdab",
   "metadata": {},
   "source": [
    "## Prompt Model and Generate Playlist"
   ]
  },
  {
   "cell_type": "code",
   "execution_count": 30,
   "id": "dcec4039-d941-4235-8066-74143ae6169b",
   "metadata": {
    "tags": []
   },
   "outputs": [
    {
     "name": "stdout",
     "output_type": "stream",
     "text": [
      "\n"
     ]
    }
   ],
   "source": [
    "# Try it out!\n",
    "prompt = \"Hype Pregame\"\n",
    "print(generate_playlist(prompt))"
   ]
  }
 ],
 "metadata": {
  "kernelspec": {
   "display_name": "test",
   "language": "python",
   "name": "python3"
  },
  "language_info": {
   "codemirror_mode": {
    "name": "ipython",
    "version": 3
   },
   "file_extension": ".py",
   "mimetype": "text/x-python",
   "name": "python",
   "nbconvert_exporter": "python",
   "pygments_lexer": "ipython3",
   "version": "3.12.3"
  }
 },
 "nbformat": 4,
 "nbformat_minor": 5
}
