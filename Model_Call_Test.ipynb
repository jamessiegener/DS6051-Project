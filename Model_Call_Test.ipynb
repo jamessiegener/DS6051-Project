{
 "cells": [
  {
   "cell_type": "code",
   "execution_count": 1,
   "id": "f5de9e3c-d6aa-4684-a2de-657a56dc8d49",
   "metadata": {
    "tags": []
   },
   "outputs": [
    {
     "name": "stderr",
     "output_type": "stream",
     "text": [
      "/sfs/gpfs/tardis/home/nuf8ms/Documents/MSDS/LLM/DS6051-Project/test/lib/python3.11/site-packages/tqdm/auto.py:21: TqdmWarning: IProgress not found. Please update jupyter and ipywidgets. See https://ipywidgets.readthedocs.io/en/stable/user_install.html\n",
      "  from .autonotebook import tqdm as notebook_tqdm\n"
     ]
    }
   ],
   "source": [
    "import pandas as pd\n",
    "from datasets import Dataset\n",
    "import ast\n",
    "from transformers import GPT2Tokenizer, GPT2LMHeadModel\n",
    "from transformers import Trainer, TrainingArguments\n",
    "import os\n",
    "import csv"
   ]
  },
  {
   "cell_type": "code",
   "execution_count": 1,
   "id": "c2f9b46b-5780-42ca-8d71-7522ff5c4a92",
   "metadata": {
    "tags": []
   },
   "outputs": [
    {
     "name": "stderr",
     "output_type": "stream",
     "text": [
      "/sfs/gpfs/tardis/home/nuf8ms/Documents/MSDS/LLM/DS6051-Project/test/lib/python3.11/site-packages/tqdm/auto.py:21: TqdmWarning: IProgress not found. Please update jupyter and ipywidgets. See https://ipywidgets.readthedocs.io/en/stable/user_install.html\n",
      "  from .autonotebook import tqdm as notebook_tqdm\n"
     ]
    }
   ],
   "source": [
    "## Import Saved Model and use with generate_playlist function\n",
    "from transformers import GPT2LMHeadModel, GPT2Tokenizer\n",
    "\n",
    "model = GPT2LMHeadModel.from_pretrained(\"./models/gpt2_Combined_Song_Artists\", local_files_only = True)\n",
    "tokenizer = GPT2Tokenizer.from_pretrained(\"./models/gpt2_Combined_Song_Artists\", local_files_only = True)\n",
    "\n",
    "tokenizer.pad_token = tokenizer.eos_token"
   ]
  },
  {
   "cell_type": "code",
   "execution_count": 4,
   "id": "c875e2e3-039d-4a8e-a1db-1af75aeac27c",
   "metadata": {
    "tags": []
   },
   "outputs": [],
   "source": [
    "model.to('cuda')\n",
    "def generate_playlist(prompt, max_length=200):\n",
    "    input_text = f\"### Prompt: {prompt}\\n### Playlist:\\n\"\n",
    "    encoded = tokenizer(input_text, return_tensors=\"pt\", return_attention_mask=True)\n",
    "    \n",
    "    input_ids = tokenizer.encode(input_text, return_tensors=\"pt\")\n",
    "    attention_mask = encoded[\"attention_mask\"].to(model.device)\n",
    "\n",
    "    output = model.generate(\n",
    "        input_ids = input_ids.to('cuda'),\n",
    "        attention_mask=attention_mask,\n",
    "        max_length=max_length,\n",
    "        temperature=0.9,\n",
    "        top_p=0.95,\n",
    "        do_sample=True,\n",
    "        num_return_sequences=1,\n",
    "        pad_token_id=tokenizer.eos_token_id\n",
    "    )\n",
    "\n",
    "    result = tokenizer.decode(output[0], skip_special_tokens=True)\n",
    "    return result.split(\"### Playlist:\\n\")[1].strip()"
   ]
  },
  {
   "cell_type": "code",
   "execution_count": 5,
   "id": "dcec4039-d941-4235-8066-74143ae6169b",
   "metadata": {
    "tags": []
   },
   "outputs": [
    {
     "name": "stdout",
     "output_type": "stream",
     "text": [
      "American Boy : Dixie Carter\n",
      "Swing Low, Sing A Little Song : The Allman Brothers Band\n",
      "Crazy Train : Billy Joel\n",
      "Wicked Game : Eric Clapton\n",
      "Goodbye, Irene : Billy Joel\n",
      "It's A Long Way to the Top : The Allman Brothers Band\n",
      "All Along the Watchtower : The Allman Brothers Band\n",
      "Mama Told Me to Be Yours : The Allman Brothers Band\n",
      "I Wanna Go : Daryl Hall & John Oates\n",
      "It's the Life : The Allman Brothers Band\n",
      "Sweet Emotion : Billy Joel\n",
      "I Saw Her Standing There - Remastered 2009 : The Allman Brothers Band\n",
      "Sweet Home Alabama : Kenny Chesney\n",
      "It's All Over Now, Baby Blue : The Allman Brothers Band\n",
      "Sweet Home Alabama : Kenny Chesney\n",
      "Walkin' Blues : The Allman Brothers Band\n",
      "It Must Have Been Love : The Allman\n"
     ]
    }
   ],
   "source": [
    "# Try it out!\n",
    "prompt = \"Road Trip with Classic Rock\"\n",
    "print(generate_playlist(prompt))"
   ]
  },
  {
   "cell_type": "code",
   "execution_count": 3,
   "id": "1b4920d2-1cc4-46b9-b674-74a91518e420",
   "metadata": {
    "tags": []
   },
   "outputs": [
    {
     "data": {
      "text/plain": [
       "'/sfs/gpfs/tardis/home/nuf8ms/Documents/MSDS/LLM/DS6051-Project'"
      ]
     },
     "execution_count": 3,
     "metadata": {},
     "output_type": "execute_result"
    }
   ],
   "source": [
    "os.getcwd()"
   ]
  },
  {
   "cell_type": "code",
   "execution_count": 4,
   "id": "0674e815-c1cd-4cdc-bfad-8a53a303b88c",
   "metadata": {
    "tags": []
   },
   "outputs": [
    {
     "name": "stdout",
     "output_type": "stream",
     "text": [
      "False\n"
     ]
    },
    {
     "ename": "FileNotFoundError",
     "evalue": "[Errno 2] No such file or directory: './DS6051-Project/models/gpt2_Combined_Song_Artists'",
     "output_type": "error",
     "traceback": [
      "\u001b[31m---------------------------------------------------------------------------\u001b[39m",
      "\u001b[31mFileNotFoundError\u001b[39m                         Traceback (most recent call last)",
      "\u001b[36mCell\u001b[39m\u001b[36m \u001b[39m\u001b[32mIn[4]\u001b[39m\u001b[32m, line 2\u001b[39m\n\u001b[32m      1\u001b[39m \u001b[38;5;28mprint\u001b[39m(os.path.exists(\u001b[33m\"\u001b[39m\u001b[33m./DS6051-Project/models/gpt2_Combined_Song_Artists\u001b[39m\u001b[33m\"\u001b[39m))\n\u001b[32m----> \u001b[39m\u001b[32m2\u001b[39m \u001b[38;5;28mprint\u001b[39m(\u001b[43mos\u001b[49m\u001b[43m.\u001b[49m\u001b[43mlistdir\u001b[49m\u001b[43m(\u001b[49m\u001b[33;43m\"\u001b[39;49m\u001b[33;43m./DS6051-Project/models/gpt2_Combined_Song_Artists\u001b[39;49m\u001b[33;43m\"\u001b[39;49m\u001b[43m)\u001b[49m)\n",
      "\u001b[31mFileNotFoundError\u001b[39m: [Errno 2] No such file or directory: './DS6051-Project/models/gpt2_Combined_Song_Artists'"
     ]
    }
   ],
   "source": [
    "print(os.path.exists(\"./DS6051-Project/models/gpt2_Combined_Song_Artists\"))\n",
    "print(os.listdir(\"./DS6051-Project/models/gpt2_Combined_Song_Artists\"))"
   ]
  },
  {
   "cell_type": "code",
   "execution_count": null,
   "id": "89078700-95cb-4295-9fc9-85f4bda87590",
   "metadata": {},
   "outputs": [],
   "source": []
  }
 ],
 "metadata": {
  "kernelspec": {
   "display_name": "Python (test)",
   "language": "python",
   "name": "test"
  },
  "language_info": {
   "codemirror_mode": {
    "name": "ipython",
    "version": 3
   },
   "file_extension": ".py",
   "mimetype": "text/x-python",
   "name": "python",
   "nbconvert_exporter": "python",
   "pygments_lexer": "ipython3",
   "version": "3.11.4"
  }
 },
 "nbformat": 4,
 "nbformat_minor": 5
}
