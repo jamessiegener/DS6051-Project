{
 "cells": [
  {
   "cell_type": "code",
   "outputs": [],
   "source": [
    "import os \n",
    "import time\n",
    "import pandas as pd\n",
    "import requests\n",
    "import json\n",
    "import dotenv\n",
    "dotenv.load_dotenv()"
   ],
   "metadata": {
    "collapsed": false
   }
  },
  {
   "cell_type": "code",
   "outputs": [],
   "source": [
    "# Load in client ID and secret\n",
    "spotify_id = os.getenv('SpotifyID')\n",
    "spotify_secret = os.getenv(\"SpotifySecret\")"
   ],
   "metadata": {
    "collapsed": false
   }
  },
  {
   "cell_type": "code",
   "outputs": [],
   "source": [
    "url = \"https://accounts.spotify.com/api/token\"\n",
    "headers = {\n",
    "    \"Content-Type\": \"application/x-www-form-urlencoded\"\n",
    "}\n",
    "data = {\n",
    "    \"grant_type\": \"client_credentials\",\n",
    "    \"client_id\": spotify_id,\n",
    "    \"client_secret\": spotify_secret\n",
    "}"
   ],
   "metadata": {
    "collapsed": false
   }
  },
  {
   "cell_type": "code",
   "outputs": [],
   "source": [
    "# Request access token (works for one hour)\n",
    "r = requests.post(url, headers=headers, data=data)\n",
    "r"
   ],
   "metadata": {
    "collapsed": false
   }
  },
  {
   "cell_type": "code",
   "outputs": [],
   "source": [
    "access_data = json.loads(r.text)\n",
    "access_token = access_data['access_token']\n",
    "token_type = access_data['token_type']"
   ],
   "metadata": {
    "collapsed": false
   }
  },
  {
   "cell_type": "markdown",
   "source": [
    "Note: To request by artist, you need to append their Spotify ID to the end of the URL. You can get this by clicking \"Share\" on an artist's profile on Spotify, and copying the ID that appears after https://open.spotify.com/artist/[id]."
   ],
   "metadata": {
    "collapsed": false
   }
  },
  {
   "cell_type": "code",
   "outputs": [],
   "source": [
    "# API call to Radiohead endpoint\n",
    "url = \"https://api.spotify.com/v1/artists/4Z8W4fKeB5YxbusRsdQVPb\"\n",
    "params = {\n",
    "    \"Authorization\": f\"{token_type} {access_token}\"\n",
    "}\n",
    "params"
   ],
   "metadata": {
    "collapsed": false
   }
  },
  {
   "cell_type": "code",
   "outputs": [],
   "source": [
    "r = requests.get(url, headers=params)\n",
    "r"
   ],
   "metadata": {
    "collapsed": false
   }
  },
  {
   "cell_type": "code",
   "outputs": [],
   "source": [
    "radiohead_json = json.loads(r.text)\n",
    "radiohead_json"
   ],
   "metadata": {
    "collapsed": false
   }
  },
  {
   "cell_type": "code",
   "outputs": [],
   "source": [
    "# API call to Taylor Swift\n",
    "url = \"https://api.spotify.com/v1/artists/06HL4z0CvFAxyc27GXpf02/\"\n",
    "r = requests.get(url, headers=params)\n",
    "r"
   ],
   "metadata": {
    "collapsed": false
   }
  },
  {
   "cell_type": "code",
   "outputs": [],
   "source": [
    "tswift_json = json.loads(r.text)\n",
    "tswift_json"
   ],
   "metadata": {
    "collapsed": false
   }
  },
  {
   "cell_type": "code",
   "outputs": [],
   "source": [
    "# API call to Violator Album\n",
    "url =\" https://api.spotify.com/v1/albums/45YmvYK4hB4CgQgTMuNRm8/tracks/\"\n",
    "r = requests.get(url, headers=params)\n",
    "r"
   ],
   "metadata": {
    "collapsed": false
   }
  },
  {
   "cell_type": "code",
   "outputs": [],
   "source": [
    "violator_json = json.loads(r.text)\n",
    "\n",
    "# Loop through to get track titles and id codes on album\n",
    "track_ids = []\n",
    "tracks = []\n",
    "for item in range(len(violator_json['items'])):\n",
    "    track_ids.append(violator_json['items'][item]['id'])\n",
    "    tracks.append(violator_json['items'][item]['name'])\n",
    "print(tracks)\n",
    "print(track_ids)"
   ],
   "metadata": {
    "collapsed": false
   }
  },
  {
   "cell_type": "code",
   "outputs": [],
   "source": [
    "# Convert track id list to comma seperated string\n",
    "ids = \",\".join(track_ids)\n",
    "ids"
   ],
   "metadata": {
    "collapsed": false
   }
  },
  {
   "cell_type": "code",
   "outputs": [],
   "source": [
    "# API call to Violator tracks\n",
    "url = f\"https://api.spotify.com/v1/tracks?ids={ids}\"\n",
    "params = {\n",
    "    \"Authorization\": f\"{token_type} {access_token}\"\n",
    "}\n",
    "r = requests.get(url, headers=params)\n",
    "r"
   ],
   "metadata": {
    "collapsed": false
   }
  },
  {
   "cell_type": "code",
   "outputs": [],
   "source": [
    "tracks_json = json.loads(r.text)\n",
    "\n",
    "# Loop through to find popularity scores\n",
    "popularity_scores = []\n",
    "for track in range(len(tracks_json['tracks'])):\n",
    "    popularity_scores.append(tracks_json['tracks'][track]['popularity'])\n",
    "popularity_scores"
   ],
   "metadata": {
    "collapsed": false
   }
  },
  {
   "cell_type": "markdown",
   "source": [
    "### API call to playlists"
   ],
   "metadata": {
    "collapsed": false
   }
  },
  {
   "cell_type": "code",
   "outputs": [],
   "source": [
    "url = f\"https://api.spotify.com/v1/playlists/1AcLtu7KYTNyxocfgAxt7y\"\n",
    "r = requests.get(url, headers=params)\n",
    "r"
   ],
   "metadata": {
    "collapsed": false
   }
  },
  {
   "cell_type": "code",
   "outputs": [],
   "source": [
    "playlist_json = json.loads(r.text)\n",
    "playlist_json['name']"
   ],
   "metadata": {
    "collapsed": false
   }
  },
  {
   "cell_type": "code",
   "outputs": [],
   "source": [
    "name = playlist_json['name']\n",
    "playlist_tracks = playlist_json['tracks']['items']\n",
    "tracks = [track['track']['name'] for track in playlist_tracks if track['track']]\n",
    "main_artist = [track['track']['artists'][0]['name'] for track in playlist_tracks]\n",
    "main_artist"
   ],
   "metadata": {
    "collapsed": false
   }
  },
  {
   "cell_type": "code",
   "outputs": [],
   "source": [
    "track_json = playlist_json['tracks']['items']\n",
    "track_list = []\n",
    "track_urls = []\n",
    "\n",
    "# this is outputing track list of the Hollies album (first song on playlist) instead of songs on playlist\n",
    "for track in range(len(track_json)):\n",
    "    track_list.append(track_json[track]['track']['name'])\n",
    "    track_urls.append(track_json[track]['track']['href'])\n",
    "track_list"
   ],
   "metadata": {
    "collapsed": false
   }
  },
  {
   "cell_type": "code",
   "outputs": [],
   "source": [
    "track_urls[:5]"
   ],
   "metadata": {
    "collapsed": false
   }
  },
  {
   "cell_type": "markdown",
   "source": [
    "Something to consider: disregarding remastered/live/rerecorded versions, usually indicated with a dash."
   ],
   "metadata": {
    "collapsed": false
   }
  },
  {
   "cell_type": "markdown",
   "source": [
    "### Query for top playlists"
   ],
   "metadata": {
    "collapsed": false
   }
  },
  {
   "cell_type": "code",
   "outputs": [],
   "source": [
    "query = \"jazz\"\n",
    "limit = 50\n",
    "url = f\"https://api.spotify.com/v1/search?q={query}&type=playlist&limit={limit}\"\n",
    "r = requests.get(url, headers=params)\n",
    "r"
   ],
   "metadata": {
    "collapsed": false
   }
  },
  {
   "cell_type": "code",
   "outputs": [],
   "source": [
    "myjson = json.loads(r.text)\n",
    "playlist_ids = [playlist['id'] for playlist in myjson['playlists']['items'] if playlist]\n",
    "playlist_ids\n",
    "# myjson['playlists']['items'][3]['id']"
   ],
   "metadata": {
    "collapsed": false
   }
  },
  {
   "cell_type": "code",
   "outputs": [],
   "source": [
    "base_url = \"https://api.spotify.com/v1/playlists/\"\n",
    "endpoint = playlist_ids[0]\n",
    "\n",
    "r = requests.get(base_url+endpoint, headers=params)\n",
    "r"
   ],
   "metadata": {
    "collapsed": false
   }
  },
  {
   "cell_type": "code",
   "outputs": [],
   "source": [
    "myjson = r.json()\n",
    "myjson['tracks']['items'][1]['track']['id']"
   ],
   "metadata": {
    "collapsed": false
   }
  },
  {
   "cell_type": "code",
   "outputs": [],
   "source": [
    "for id in playlist_ids:\n",
    "    r = requests.get(base_url+id, headers=params)\n",
    "    myjson = json.loads(r.text)\n",
    "    name = myjson['name']\n",
    "    playlist_tracks = myjson['tracks']['items']\n",
    "    tracks = [playlist_track['track']['name'] for playlist_track in playlist_tracks]\n",
    "    print(name)\n",
    "    print(tracks)\n",
    "    time.sleep(1)\n"
   ],
   "metadata": {
    "collapsed": false
   }
  },
  {
   "cell_type": "markdown",
   "source": [
    "## Build playlist dataframe"
   ],
   "metadata": {
    "collapsed": false
   }
  },
  {
   "cell_type": "code",
   "outputs": [],
   "source": [
    "import playlistscraper as ps"
   ],
   "metadata": {
    "collapsed": false
   }
  },
  {
   "cell_type": "code",
   "outputs": [],
   "source": [
    "# Load in access token\n",
    "url = \"https://accounts.spotify.com/api/token\"\n",
    "headers = {\n",
    "    \"Content-Type\": \"application/x-www-form-urlencoded\"\n",
    "}\n",
    "data = {\n",
    "    \"grant_type\": \"client_credentials\",\n",
    "    \"client_id\": spotify_id,\n",
    "    \"client_secret\": spotify_secret\n",
    "}\n",
    "\n",
    "r = requests.post(url, headers=headers, data=data)\n",
    "access_data = json.loads(r.text)\n",
    "access_token = access_data['access_token']\n",
    "token_type = access_data['token_type']"
   ],
   "metadata": {
    "collapsed": false
   }
  },
  {
   "cell_type": "code",
   "outputs": [],
   "source": [
    "headers = {\n",
    "    \"Authorization\": f\"{token_type} {access_token}\"\n",
    "}"
   ],
   "metadata": {
    "collapsed": false
   }
  },
  {
   "cell_type": "code",
   "outputs": [],
   "source": [
    "genres = [\"pop\", \"rock\", \"country\"]\n",
    "df1 = pd.DataFrame()\n",
    "for genre in genres:\n",
    "    df2 = ps.get_playlist_df(genre, headers)\n",
    "    df1 = pd.concat([df1, df2])"
   ],
   "metadata": {
    "collapsed": false
   }
  },
  {
   "cell_type": "code",
   "outputs": [],
   "source": [
    "df1"
   ],
   "metadata": {
    "collapsed": false
   }
  },
  {
   "cell_type": "code",
   "outputs": [],
   "source": [
    "# was getting timeout error so only did 3-5 genres at a time\n",
    "genres = [\"alternative\", \"indie\", \"folk\", \"classical\", \"lofi\"]\n",
    "for genre in genres:\n",
    "    df2 = ps.get_playlist_df(genre, headers)\n",
    "    df1 = pd.concat([df1, df2])"
   ],
   "metadata": {
    "collapsed": false
   }
  },
  {
   "cell_type": "code",
   "outputs": [],
   "source": [
    "genres = [\"jazz\", \"rap\"]\n",
    "for genre in genres:\n",
    "    df2 = ps.get_playlist_df(genre, headers)\n",
    "    df1 = pd.concat([df1, df2])"
   ],
   "metadata": {
    "collapsed": false
   }
  },
  {
   "cell_type": "code",
   "outputs": [],
   "source": [
    "genres = [\"rnb\", \"blues\", \"punk\", \"electronic\"]\n",
    "for genre in genres:\n",
    "    df2 = ps.get_playlist_df(genre, headers)\n",
    "    df1 = pd.concat([df1, df2])"
   ],
   "metadata": {
    "collapsed": false
   }
  },
  {
   "cell_type": "code",
   "outputs": [],
   "source": [
    "genres = [\"dance\", \"funk\", \"latin\", \"house\"]\n",
    "for genre in genres:\n",
    "    df2 = ps.get_playlist_df(genre, headers)\n",
    "    df1 = pd.concat([df1, df2])"
   ],
   "metadata": {
    "collapsed": false
   }
  },
  {
   "cell_type": "code",
   "outputs": [],
   "source": [
    "genres = [\"reggae\", \"new wave\", \"disco\", \"ska\", \"edm\"]\n",
    "for genre in genres:\n",
    "    df2 = ps.get_playlist_df(genre, headers)\n",
    "    df1 = pd.concat([df1, df2])"
   ],
   "metadata": {
    "collapsed": false
   }
  },
  {
   "cell_type": "code",
   "outputs": [],
   "source": [
    "genres = [\"hiphop\", \"soul\", \"synth\", \"kpop\"]\n",
    "for genre in genres:\n",
    "    df2 = ps.get_playlist_df(genre, headers)\n",
    "    df1 = pd.concat([df1, df2])"
   ],
   "metadata": {
    "collapsed": false
   }
  },
  {
   "cell_type": "code",
   "outputs": [],
   "source": [
    "genres = [\"grunge\", \"gospel\", \"ambient\", \"techno\", \"tiktok\"]\n",
    "for genre in genres:\n",
    "    df2 = ps.get_playlist_df(genre, headers)\n",
    "    df1 = pd.concat([df1, df2])"
   ],
   "metadata": {
    "collapsed": false
   }
  },
  {
   "cell_type": "code",
   "outputs": [],
   "source": [
    "genres = [\"cleaning\", \"drive\", \"roadtrip\", \"gym\", \"run\"]\n",
    "for genre in genres:\n",
    "    df2 = ps.get_playlist_df(genre, headers)\n",
    "    df1 = pd.concat([df1, df2])"
   ],
   "metadata": {
    "collapsed": false
   }
  },
  {
   "cell_type": "code",
   "outputs": [],
   "source": [
    "genres = [\"morning\", \"afternoon\", \"evening\", \"night\"]\n",
    "for genre in genres:\n",
    "    df2 = ps.get_playlist_df(genre, headers)\n",
    "    df1 = pd.concat([df1, df2])"
   ],
   "metadata": {
    "collapsed": false
   }
  },
  {
   "cell_type": "code",
   "outputs": [],
   "source": [
    "genres = [\"club\", \"library\", \"study\", \"beach\", \"boat\"]\n",
    "for genre in genres:\n",
    "    df2 = ps.get_playlist_df(genre, headers)\n",
    "    df1 = pd.concat([df1, df2])"
   ],
   "metadata": {
    "collapsed": false
   }
  },
  {
   "cell_type": "code",
   "outputs": [],
   "source": [
    "genres = [\"chill\", \"party\", \"clubbing\", \"cafe\"]\n",
    "for genre in genres:\n",
    "    df2 = ps.get_playlist_df(genre, headers)\n",
    "    df1 = pd.concat([df1, df2])"
   ],
   "metadata": {
    "collapsed": false
   }
  },
  {
   "cell_type": "code",
   "outputs": [],
   "source": [
    "genres = [\"50s\", \"60s\", \"70s\", \"80s\"]\n",
    "for genre in genres:\n",
    "    df2 = ps.get_playlist_df(genre, headers)\n",
    "    df1 = pd.concat([df1, df2])"
   ],
   "metadata": {
    "collapsed": false
   }
  },
  {
   "cell_type": "code",
   "outputs": [],
   "source": [
    "genres = [\"90s\", \"2000\", \"2010\", \"y2k\"]\n",
    "for genre in genres:\n",
    "    df2 = ps.get_playlist_df(genre, headers)\n",
    "    df1 = pd.concat([df1, df2])"
   ],
   "metadata": {
    "collapsed": false
   }
  },
  {
   "cell_type": "code",
   "outputs": [],
   "source": [
    "df1.to_csv(\"playlist_data.csv\", index=False)"
   ],
   "metadata": {
    "collapsed": false
   }
  },
  {
   "cell_type": "code",
   "outputs": [],
   "source": [
    "df1.shape"
   ],
   "metadata": {
    "collapsed": false
   }
  },
  {
   "cell_type": "code",
   "outputs": [],
   "source": [
    "df1"
   ],
   "metadata": {
    "collapsed": false
   }
  },
  {
   "cell_type": "code",
   "outputs": [],
   "source": [
    "\"\"\"\n",
    "HAVE ADDED:\n",
    "- pop\n",
    "- rock\n",
    "- country\n",
    "- alternative\n",
    "- indie\n",
    "- folk\n",
    "- classical\n",
    "- lofi\n",
    "- jazz \n",
    "- rap\n",
    "- rnb\n",
    "- blues\n",
    "- punk\n",
    "- electronic\n",
    "- dance\n",
    "- funk\n",
    "- latin\n",
    "- house\n",
    "- reggae\n",
    "- new wave\n",
    "- edm\n",
    "- disco\n",
    "- ska\n",
    "- hiphop\n",
    "- soul\n",
    "- synth\n",
    "- kpop\n",
    "- grunge\n",
    "- gospel\n",
    "- ambient\n",
    "- techno\n",
    "- tiktok\n",
    "- cleaning\n",
    "- drive\n",
    "- roadtrip\n",
    "- gym\n",
    "- run\n",
    "- morning\n",
    "- afternoon\n",
    "- evening\n",
    "- night\n",
    "- club\n",
    "- library\n",
    "- study\n",
    "- beach\n",
    "- boat\n",
    "- chill\n",
    "- party\n",
    "- clubbing\n",
    "- cafe\n",
    "- 50s - 2010s\n",
    "- y2k\n",
    "\"\"\""
   ],
   "metadata": {
    "collapsed": false
   }
  },
  {
   "cell_type": "code",
   "outputs": [],
   "source": [
    "\"\"\"\n",
    "TO ADD:\n",
    "International: african, indian / desi, spanish, french, \n",
    "Moods: sad, happy, anxious, excited\n",
    "Weather: sunny, cloudy, rainy, snow, warm, cold\n",
    "Movie soundtracks?\n",
    "activities: cardio, lifting, sleep, meditation, nature, sexy(?)\n",
    "places: coffeehouse\n",
    "audience: kids, clean, teen, adult\n",
    "\"\"\""
   ],
   "metadata": {
    "collapsed": false
   }
  },
  {
   "cell_type": "markdown",
   "source": [
    "Thoughts: check df for repeating playlists, update same genres on semi-regular basis, flag explicit songs?"
   ],
   "metadata": {
    "collapsed": false
   }
  },
  {
   "cell_type": "markdown",
   "source": [],
   "metadata": {
    "collapsed": false
   }
  }
 ],
 "metadata": {
  "kernelspec": {
   "display_name": "unsloth_env",
   "language": "python",
   "name": "python3"
  },
  "language_info": {
   "codemirror_mode": {
    "name": "ipython",
    "version": 3
   },
   "file_extension": ".py",
   "mimetype": "text/x-python",
   "name": "python",
   "nbconvert_exporter": "python",
   "pygments_lexer": "ipython3",
   "version": "3.12.8"
  }
 },
 "nbformat": 4,
 "nbformat_minor": 2
}
