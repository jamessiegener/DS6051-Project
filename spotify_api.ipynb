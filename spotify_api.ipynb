{
 "cells": [
  {
   "cell_type": "markdown",
   "metadata": {},
   "source": [
    "## Build playlist dataframe"
   ]
  },
  {
   "cell_type": "code",
   "execution_count": 1,
   "metadata": {},
   "outputs": [
    {
     "data": {
      "text/plain": [
       "True"
      ]
     },
     "execution_count": 1,
     "metadata": {},
     "output_type": "execute_result"
    }
   ],
   "source": [
    "import os \n",
    "import time\n",
    "import pandas as pd\n",
    "import requests\n",
    "import json\n",
    "import dotenv\n",
    "dotenv.load_dotenv()\n",
    "\n",
    "import playlistscraper as ps"
   ]
  },
  {
   "cell_type": "code",
   "execution_count": 2,
   "metadata": {},
   "outputs": [],
   "source": [
    "# Load in client ID and secret\n",
    "spotify_id = os.getenv('SpotifyID')\n",
    "spotify_secret = os.getenv(\"SpotifySecret\")"
   ]
  },
  {
   "cell_type": "code",
   "execution_count": 3,
   "metadata": {},
   "outputs": [],
   "source": [
    "url = \"https://accounts.spotify.com/api/token\"\n",
    "headers = {\n",
    "    \"Content-Type\": \"application/x-www-form-urlencoded\"\n",
    "}\n",
    "data = {\n",
    "    \"grant_type\": \"client_credentials\",\n",
    "    \"client_id\": spotify_id,\n",
    "    \"client_secret\": spotify_secret\n",
    "}"
   ]
  },
  {
   "cell_type": "code",
   "execution_count": 4,
   "metadata": {},
   "outputs": [
    {
     "data": {
      "text/plain": [
       "<Response [200]>"
      ]
     },
     "execution_count": 4,
     "metadata": {},
     "output_type": "execute_result"
    }
   ],
   "source": [
    "# Request access token (works for one hour)\n",
    "r = requests.post(url, headers=headers, data=data)\n",
    "r"
   ]
  },
  {
   "cell_type": "code",
   "execution_count": 5,
   "metadata": {},
   "outputs": [],
   "source": [
    "access_data = json.loads(r.text)\n",
    "access_token = access_data['access_token']\n",
    "token_type = access_data['token_type']"
   ]
  },
  {
   "cell_type": "code",
   "execution_count": 13,
   "metadata": {},
   "outputs": [],
   "source": [
    "# Load in access token\n",
    "url = \"https://accounts.spotify.com/api/token\"\n",
    "headers = {\n",
    "    \"Content-Type\": \"application/x-www-form-urlencoded\"\n",
    "}\n",
    "data = {\n",
    "    \"grant_type\": \"client_credentials\",\n",
    "    \"client_id\": spotify_id,\n",
    "    \"client_secret\": spotify_secret\n",
    "}\n",
    "\n",
    "r = requests.post(url, headers=headers, data=data)\n",
    "access_data = json.loads(r.text)\n",
    "access_token = access_data['access_token']\n",
    "token_type = access_data['token_type']"
   ]
  },
  {
   "cell_type": "code",
   "execution_count": 14,
   "metadata": {},
   "outputs": [],
   "source": [
    "headers = {\n",
    "    \"Authorization\": f\"{token_type} {access_token}\"\n",
    "}"
   ]
  },
  {
   "cell_type": "code",
   "execution_count": 19,
   "metadata": {},
   "outputs": [
    {
     "data": {
      "text/html": [
       "<div>\n",
       "<style scoped>\n",
       "    .dataframe tbody tr th:only-of-type {\n",
       "        vertical-align: middle;\n",
       "    }\n",
       "\n",
       "    .dataframe tbody tr th {\n",
       "        vertical-align: top;\n",
       "    }\n",
       "\n",
       "    .dataframe thead th {\n",
       "        text-align: right;\n",
       "    }\n",
       "</style>\n",
       "<table border=\"1\" class=\"dataframe\">\n",
       "  <thead>\n",
       "    <tr style=\"text-align: right;\">\n",
       "      <th></th>\n",
       "      <th>Playlist_ID</th>\n",
       "      <th>Playlist_Name</th>\n",
       "      <th>Playlist_Songs</th>\n",
       "      <th>Playlist_Artists</th>\n",
       "      <th>Playlist_Song_IDs</th>\n",
       "    </tr>\n",
       "  </thead>\n",
       "  <tbody>\n",
       "    <tr>\n",
       "      <th>0</th>\n",
       "      <td>6mtYuOxzl58vSGnEDtZ9uB</td>\n",
       "      <td>Pop Hits 2000s – 2025</td>\n",
       "      <td>['Into You', 'Glad You Came', 'Dark Horse', 'W...</td>\n",
       "      <td>['Ariana Grande', 'The Wanted', 'Katy Perry', ...</td>\n",
       "      <td>['2meEiZKWkiN28gITzFwQo5', '1OXfWI3FQMdsKKC6lk...</td>\n",
       "    </tr>\n",
       "    <tr>\n",
       "      <th>1</th>\n",
       "      <td>34NbomaTu7YuOYnky8nLXL</td>\n",
       "      <td>Pop Hits 2025 (Top 50)</td>\n",
       "      <td>['Die With A Smile', 'APT.', 'Espresso', \"we c...</td>\n",
       "      <td>['Lady Gaga', 'ROSÉ', 'Sabrina Carpenter', 'Ar...</td>\n",
       "      <td>['2plbrEY59IikOBgBGLjaoe', '5vNRhkKd0yEAg8suGB...</td>\n",
       "    </tr>\n",
       "    <tr>\n",
       "      <th>2</th>\n",
       "      <td>4Jb4PDWREzNnbZcOHPcZPy</td>\n",
       "      <td>COUNTRY HITS 2025 🔥 New Country Songs + Top Hits</td>\n",
       "      <td>['I Had Some Help (Feat. Morgan Wallen)', \"Aus...</td>\n",
       "      <td>['Post Malone', 'Dasha', 'mgk', 'Dylan Marlowe...</td>\n",
       "      <td>['5IZXB5IKAD2qlvTPJYDCFB', '2uqYupMHANxnwgeiXT...</td>\n",
       "    </tr>\n",
       "    <tr>\n",
       "      <th>3</th>\n",
       "      <td>1Cgey68pUlQGsCPI2wJuxr</td>\n",
       "      <td>Best of 2025 🔥 Most Popular Hits 2025 Hits</td>\n",
       "      <td>['APT.', 'Anxiety', 'Die With A Smile', 'Messy...</td>\n",
       "      <td>['ROSÉ', 'Doechii', 'Lady Gaga', 'Lola Young',...</td>\n",
       "      <td>['5vNRhkKd0yEAg8suGBpjeY', '1musbempyJAw5gfSKZ...</td>\n",
       "    </tr>\n",
       "    <tr>\n",
       "      <th>4</th>\n",
       "      <td>2L2HwKRvUgBv1YetudaRI3</td>\n",
       "      <td>Pop 2000-2010 Bangers</td>\n",
       "      <td>['Whatcha Say', 'Airplanes (feat. Hayley Willi...</td>\n",
       "      <td>['Jason Derulo', 'B.o.B', 'Bruno Mars', 'Tinch...</td>\n",
       "      <td>['7xkQdy0cy5ymoWT7nedvLz', '1QnvpPFP4Q3FHbDchq...</td>\n",
       "    </tr>\n",
       "  </tbody>\n",
       "</table>\n",
       "</div>"
      ],
      "text/plain": [
       "              Playlist_ID                                     Playlist_Name  \\\n",
       "0  6mtYuOxzl58vSGnEDtZ9uB                             Pop Hits 2000s – 2025   \n",
       "1  34NbomaTu7YuOYnky8nLXL                            Pop Hits 2025 (Top 50)   \n",
       "2  4Jb4PDWREzNnbZcOHPcZPy  COUNTRY HITS 2025 🔥 New Country Songs + Top Hits   \n",
       "3  1Cgey68pUlQGsCPI2wJuxr        Best of 2025 🔥 Most Popular Hits 2025 Hits   \n",
       "4  2L2HwKRvUgBv1YetudaRI3                             Pop 2000-2010 Bangers   \n",
       "\n",
       "                                      Playlist_Songs  \\\n",
       "0  ['Into You', 'Glad You Came', 'Dark Horse', 'W...   \n",
       "1  ['Die With A Smile', 'APT.', 'Espresso', \"we c...   \n",
       "2  ['I Had Some Help (Feat. Morgan Wallen)', \"Aus...   \n",
       "3  ['APT.', 'Anxiety', 'Die With A Smile', 'Messy...   \n",
       "4  ['Whatcha Say', 'Airplanes (feat. Hayley Willi...   \n",
       "\n",
       "                                    Playlist_Artists  \\\n",
       "0  ['Ariana Grande', 'The Wanted', 'Katy Perry', ...   \n",
       "1  ['Lady Gaga', 'ROSÉ', 'Sabrina Carpenter', 'Ar...   \n",
       "2  ['Post Malone', 'Dasha', 'mgk', 'Dylan Marlowe...   \n",
       "3  ['ROSÉ', 'Doechii', 'Lady Gaga', 'Lola Young',...   \n",
       "4  ['Jason Derulo', 'B.o.B', 'Bruno Mars', 'Tinch...   \n",
       "\n",
       "                                   Playlist_Song_IDs  \n",
       "0  ['2meEiZKWkiN28gITzFwQo5', '1OXfWI3FQMdsKKC6lk...  \n",
       "1  ['2plbrEY59IikOBgBGLjaoe', '5vNRhkKd0yEAg8suGB...  \n",
       "2  ['5IZXB5IKAD2qlvTPJYDCFB', '2uqYupMHANxnwgeiXT...  \n",
       "3  ['5vNRhkKd0yEAg8suGBpjeY', '1musbempyJAw5gfSKZ...  \n",
       "4  ['7xkQdy0cy5ymoWT7nedvLz', '1QnvpPFP4Q3FHbDchq...  "
      ]
     },
     "execution_count": 19,
     "metadata": {},
     "output_type": "execute_result"
    }
   ],
   "source": [
    "# Read in current playlist df\n",
    "df1 = pd.read_csv(\"playlist_data.csv\")\n",
    "df1.head()"
   ]
  },
  {
   "cell_type": "code",
   "execution_count": 20,
   "metadata": {},
   "outputs": [],
   "source": [
    "# Function to call spotify playlists and append to dataframe\n",
    "def add_playlists(genres, df1):\n",
    "    for genre in genres:\n",
    "        # print(genre)\n",
    "        df2 = ps.get_playlist_df(genre, headers)\n",
    "        df1 = pd.concat([df1, df2])"
   ]
  },
  {
   "cell_type": "code",
   "execution_count": null,
   "metadata": {},
   "outputs": [],
   "source": [
    "genres = [\"pop\", \"rock\", \"country\", \"alternative\", \"indie\", \"folk\", \"classical\", \"lofi\",\n",
    "          \"jazz\", \"rap\", \"rnb\", \"blues\", \"punk\", \"electronic\", \"dance\", \"funk\", \"latin\", \"house\",\n",
    "          \"reggae\", \"new wave\", \"disco\", \"ska\", \"edm\", \"hiphop\", \"soul\", \"synth\", \"kpop\", \n",
    "          \"grunge\", \"gospel\", \"ambient\", \"techno\", \"tiktok\", \"cleaning\", \"drive\", \"roadtrip\", \"gym\", \n",
    "          \"run\", \"morning\", \"afternoon\", \"evening\", \"night\", \"club\", \"library\", \"study\", \"beach\", \"boat\",\n",
    "          \"chill\", \"party\", \"clubbing\", \"cafe\", \"50s\", \"60s\", \"70s\", \"80s\", \"90s\", \"2000\", \"2010\", \"y2k\",\n",
    "          \"international\", \"america\", \"africa\", \"indian\", \"pakistani\", \"desi\", \"spanish\", \"french\", \"russian\"]\n",
    "add_playlists(genres, df1)"
   ]
  },
  {
   "cell_type": "code",
   "execution_count": 15,
   "metadata": {},
   "outputs": [
    {
     "name": "stdout",
     "output_type": "stream",
     "text": [
      "sad\n",
      "happy\n",
      "anxious\n",
      "excitied\n",
      "sunny\n",
      "cloudy\n",
      "rainy\n",
      "snow\n",
      "warm\n",
      "cold\n",
      "soundtrack\n",
      "cardio\n",
      "lifting\n",
      "sleep\n",
      "meditation\n",
      "nature\n",
      "sexy\n",
      "coffeehouse\n",
      "cafe\n",
      "school\n",
      "chruch\n",
      "kids\n",
      "clean\n",
      "teen\n",
      "adult\n",
      "sea shanties\n",
      "pregame\n",
      "frat\n",
      "darty\n",
      "july 4th\n",
      "christmas\n",
      "xmas\n",
      "st pattys\n",
      "barbecue\n",
      "backyard\n",
      "graduation\n",
      "thanksgiving\n",
      "valentines\n",
      "love\n",
      "boyfriend\n",
      "girlfriend\n",
      "easter\n"
     ]
    }
   ],
   "source": [
    "genres = [\"sad\", \"happy\", \"anxious\", \"excitied\", \"sunny\", \"cloudy\", \"rainy\", \"snow\", \n",
    "          \"warm\", \"cold\", \"soundtrack\", \"cardio\", \"lifting\", \"sleep\", \"meditation\",\n",
    "          \"nature\", \"sexy\", \"coffeehouse\", \"cafe\", \"school\", \"chruch\", \"kids\", \"clean\", \n",
    "          \"teen\", \"adult\", \"sea shanties\", \"pregame\", \"frat\", \"darty\", \"july 4th\", \"christmas\",\n",
    "          \"xmas\", \"st pattys\", \"barbecue\", \"backyard\", \"graduation\", \"thanksgiving\", \"valentines\", \n",
    "          \"love\", \"boyfriend\", \"girlfriend\", \"easter\"]\n",
    "add_playlists(genres, df1)"
   ]
  },
  {
   "cell_type": "code",
   "execution_count": 21,
   "metadata": {},
   "outputs": [
    {
     "data": {
      "text/plain": [
       "(1826, 5)"
      ]
     },
     "execution_count": 21,
     "metadata": {},
     "output_type": "execute_result"
    }
   ],
   "source": [
    "# Drop duplicate playlists\n",
    "df1 = df1.drop_duplicates(subset=['Playlist_ID'], keep='first')\n",
    "df1.shape"
   ]
  },
  {
   "cell_type": "code",
   "execution_count": 19,
   "metadata": {},
   "outputs": [],
   "source": [
    "# Save playlist dataframe as csv\n",
    "df1.to_csv(\"playlist_data.csv\", index=False)"
   ]
  }
 ],
 "metadata": {
  "kernelspec": {
   "display_name": "unsloth_env",
   "language": "python",
   "name": "python3"
  },
  "language_info": {
   "codemirror_mode": {
    "name": "ipython",
    "version": 3
   },
   "file_extension": ".py",
   "mimetype": "text/x-python",
   "name": "python",
   "nbconvert_exporter": "python",
   "pygments_lexer": "ipython3",
   "version": "3.12.8"
  }
 },
 "nbformat": 4,
 "nbformat_minor": 2
}
