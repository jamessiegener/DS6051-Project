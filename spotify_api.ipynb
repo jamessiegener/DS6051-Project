{
 "cells": [
  {
   "cell_type": "markdown",
   "metadata": {},
   "source": [
    "## Build playlist dataframe"
   ]
  },
  {
   "cell_type": "code",
   "execution_count": 2,
   "metadata": {
    "ExecuteTime": {
     "end_time": "2025-04-09T22:42:51.152884Z",
     "start_time": "2025-04-09T22:42:51.126635Z"
    }
   },
   "outputs": [
    {
     "ename": "ModuleNotFoundError",
     "evalue": "No module named 'dotenv'",
     "output_type": "error",
     "traceback": [
      "\u001B[0;31m---------------------------------------------------------------------------\u001B[0m",
      "\u001B[0;31mModuleNotFoundError\u001B[0m                       Traceback (most recent call last)",
      "Cell \u001B[0;32mIn[2], line 6\u001B[0m\n\u001B[1;32m      4\u001B[0m \u001B[38;5;28;01mimport\u001B[39;00m \u001B[38;5;21;01mrequests\u001B[39;00m\n\u001B[1;32m      5\u001B[0m \u001B[38;5;28;01mimport\u001B[39;00m \u001B[38;5;21;01mjson\u001B[39;00m\n\u001B[0;32m----> 6\u001B[0m \u001B[38;5;28;01mimport\u001B[39;00m \u001B[38;5;21;01mdotenv\u001B[39;00m\n\u001B[1;32m      7\u001B[0m dotenv\u001B[38;5;241m.\u001B[39mload_dotenv()\n\u001B[1;32m      9\u001B[0m \u001B[38;5;28;01mimport\u001B[39;00m \u001B[38;5;21;01mplaylistscraper\u001B[39;00m \u001B[38;5;28;01mas\u001B[39;00m \u001B[38;5;21;01mps\u001B[39;00m\n",
      "\u001B[0;31mModuleNotFoundError\u001B[0m: No module named 'dotenv'"
     ]
    }
   ],
   "source": [
    "import os \n",
    "import time\n",
    "import pandas as pd\n",
    "import requests\n",
    "import json\n",
    "import dotenv\n",
    "dotenv.load_dotenv()\n",
    "\n",
    "import playlistscraper as ps"
   ]
  },
  {
   "cell_type": "code",
   "execution_count": 3,
   "metadata": {
    "ExecuteTime": {
     "end_time": "2025-04-09T22:42:53.304725Z",
     "start_time": "2025-04-09T22:42:53.298554Z"
    }
   },
   "outputs": [],
   "source": [
    "# Load in client ID and secret\n",
    "spotify_id = os.getenv('SpotifyID')\n",
    "spotify_secret = os.getenv(\"SpotifySecret\")"
   ]
  },
  {
   "cell_type": "code",
   "execution_count": 3,
   "metadata": {},
   "outputs": [],
   "source": [
    "url = \"https://accounts.spotify.com/api/token\"\n",
    "headers = {\n",
    "    \"Content-Type\": \"application/x-www-form-urlencoded\"\n",
    "}\n",
    "data = {\n",
    "    \"grant_type\": \"client_credentials\",\n",
    "    \"client_id\": spotify_id,\n",
    "    \"client_secret\": spotify_secret\n",
    "}"
   ]
  },
  {
   "cell_type": "code",
   "execution_count": 4,
   "metadata": {},
   "outputs": [
    {
     "data": {
      "text/plain": [
       "<Response [200]>"
      ]
     },
     "execution_count": 4,
     "metadata": {},
     "output_type": "execute_result"
    }
   ],
   "source": [
    "# Request access token (works for one hour)\n",
    "r = requests.post(url, headers=headers, data=data)\n",
    "r"
   ]
  },
  {
   "cell_type": "code",
   "execution_count": 5,
   "metadata": {},
   "outputs": [],
   "source": [
    "access_data = json.loads(r.text)\n",
    "access_token = access_data['access_token']\n",
    "token_type = access_data['token_type']"
   ]
  },
  {
   "cell_type": "code",
   "execution_count": 6,
   "metadata": {},
   "outputs": [],
   "source": [
    "# Load in access token\n",
    "url = \"https://accounts.spotify.com/api/token\"\n",
    "headers = {\n",
    "    \"Content-Type\": \"application/x-www-form-urlencoded\"\n",
    "}\n",
    "data = {\n",
    "    \"grant_type\": \"client_credentials\",\n",
    "    \"client_id\": spotify_id,\n",
    "    \"client_secret\": spotify_secret\n",
    "}\n",
    "\n",
    "r = requests.post(url, headers=headers, data=data)\n",
    "access_data = json.loads(r.text)\n",
    "access_token = access_data['access_token']\n",
    "token_type = access_data['token_type']"
   ]
  },
  {
   "cell_type": "code",
   "execution_count": 7,
   "metadata": {},
   "outputs": [],
   "source": [
    "headers = {\n",
    "    \"Authorization\": f\"{token_type} {access_token}\"\n",
    "}"
   ]
  },
  {
   "cell_type": "code",
   "execution_count": 8,
   "metadata": {},
   "outputs": [
    {
     "data": {
      "text/html": [
       "<div>\n",
       "<style scoped>\n",
       "    .dataframe tbody tr th:only-of-type {\n",
       "        vertical-align: middle;\n",
       "    }\n",
       "\n",
       "    .dataframe tbody tr th {\n",
       "        vertical-align: top;\n",
       "    }\n",
       "\n",
       "    .dataframe thead th {\n",
       "        text-align: right;\n",
       "    }\n",
       "</style>\n",
       "<table border=\"1\" class=\"dataframe\">\n",
       "  <thead>\n",
       "    <tr style=\"text-align: right;\">\n",
       "      <th></th>\n",
       "      <th>Unnamed: 0</th>\n",
       "      <th>Playlist_ID</th>\n",
       "      <th>Playlist_Name</th>\n",
       "      <th>Playlist_Description</th>\n",
       "      <th>Playlist_Songs</th>\n",
       "      <th>Playlist_Artists</th>\n",
       "      <th>Playlist_Song_IDs</th>\n",
       "    </tr>\n",
       "  </thead>\n",
       "  <tbody>\n",
       "    <tr>\n",
       "      <th>0</th>\n",
       "      <td>0</td>\n",
       "      <td>6mtYuOxzl58vSGnEDtZ9uB</td>\n",
       "      <td>Pop Hits 2000s – 2025</td>\n",
       "      <td>old but gold, all the best throwback songs to ...</td>\n",
       "      <td>['Into You', 'Glad You Came', 'Dark Horse', 'W...</td>\n",
       "      <td>['Ariana Grande', 'The Wanted', 'Katy Perry', ...</td>\n",
       "      <td>['2meEiZKWkiN28gITzFwQo5', '1OXfWI3FQMdsKKC6lk...</td>\n",
       "    </tr>\n",
       "    <tr>\n",
       "      <th>1</th>\n",
       "      <td>2</td>\n",
       "      <td>4Jb4PDWREzNnbZcOHPcZPy</td>\n",
       "      <td>COUNTRY HITS 2025 🔥 New Country Songs + Top Hits</td>\n",
       "      <td>best country music of 2025 most popular trendi...</td>\n",
       "      <td>['I Had Some Help (Feat. Morgan Wallen)', \"Aus...</td>\n",
       "      <td>['Post Malone', 'Dasha', 'mgk', 'Dylan Marlowe...</td>\n",
       "      <td>['5IZXB5IKAD2qlvTPJYDCFB', '2uqYupMHANxnwgeiXT...</td>\n",
       "    </tr>\n",
       "    <tr>\n",
       "      <th>2</th>\n",
       "      <td>4</td>\n",
       "      <td>2L2HwKRvUgBv1YetudaRI3</td>\n",
       "      <td>Pop 2000-2010 Bangers</td>\n",
       "      <td>Some bangers, but no mash</td>\n",
       "      <td>['Whatcha Say', 'Airplanes (feat. Hayley Willi...</td>\n",
       "      <td>['Jason Derulo', 'B.o.B', 'Bruno Mars', 'Tinch...</td>\n",
       "      <td>['7xkQdy0cy5ymoWT7nedvLz', '1QnvpPFP4Q3FHbDchq...</td>\n",
       "    </tr>\n",
       "    <tr>\n",
       "      <th>3</th>\n",
       "      <td>7</td>\n",
       "      <td>327k1ryJ7j1xD7gWKpdc6o</td>\n",
       "      <td>Popular Christian Music</td>\n",
       "      <td>NaN</td>\n",
       "      <td>['Oh My Soul', 'Stars', 'Voice of Truth', 'You...</td>\n",
       "      <td>['Casting Crowns', 'Skillet', 'Casting Crowns'...</td>\n",
       "      <td>['3s0h3pyKFrS3XX6ZLBPx6s', '6VMT3SzIMbNoR5lsUs...</td>\n",
       "    </tr>\n",
       "    <tr>\n",
       "      <th>4</th>\n",
       "      <td>9</td>\n",
       "      <td>4muHyvSwG1wP9sI4XihC5w</td>\n",
       "      <td>Instrumental Popular Songs 2025</td>\n",
       "      <td>Instrumental Popular Songs of 2025, 2024, Upda...</td>\n",
       "      <td>['birds of a feather - piano instrumental', 'g...</td>\n",
       "      <td>['Chilled Pig', 'Chilled Pig', 'Chilled Pig', ...</td>\n",
       "      <td>['1bE4hvWlx8gtWIMVUptOXi', '1KYe04kDLflLdoJ9kN...</td>\n",
       "    </tr>\n",
       "  </tbody>\n",
       "</table>\n",
       "</div>"
      ],
      "text/plain": [
       "   Unnamed: 0             Playlist_ID  \\\n",
       "0           0  6mtYuOxzl58vSGnEDtZ9uB   \n",
       "1           2  4Jb4PDWREzNnbZcOHPcZPy   \n",
       "2           4  2L2HwKRvUgBv1YetudaRI3   \n",
       "3           7  327k1ryJ7j1xD7gWKpdc6o   \n",
       "4           9  4muHyvSwG1wP9sI4XihC5w   \n",
       "\n",
       "                                      Playlist_Name  \\\n",
       "0                             Pop Hits 2000s – 2025   \n",
       "1  COUNTRY HITS 2025 🔥 New Country Songs + Top Hits   \n",
       "2                             Pop 2000-2010 Bangers   \n",
       "3                           Popular Christian Music   \n",
       "4                   Instrumental Popular Songs 2025   \n",
       "\n",
       "                                Playlist_Description  \\\n",
       "0  old but gold, all the best throwback songs to ...   \n",
       "1  best country music of 2025 most popular trendi...   \n",
       "2                          Some bangers, but no mash   \n",
       "3                                                NaN   \n",
       "4  Instrumental Popular Songs of 2025, 2024, Upda...   \n",
       "\n",
       "                                      Playlist_Songs  \\\n",
       "0  ['Into You', 'Glad You Came', 'Dark Horse', 'W...   \n",
       "1  ['I Had Some Help (Feat. Morgan Wallen)', \"Aus...   \n",
       "2  ['Whatcha Say', 'Airplanes (feat. Hayley Willi...   \n",
       "3  ['Oh My Soul', 'Stars', 'Voice of Truth', 'You...   \n",
       "4  ['birds of a feather - piano instrumental', 'g...   \n",
       "\n",
       "                                    Playlist_Artists  \\\n",
       "0  ['Ariana Grande', 'The Wanted', 'Katy Perry', ...   \n",
       "1  ['Post Malone', 'Dasha', 'mgk', 'Dylan Marlowe...   \n",
       "2  ['Jason Derulo', 'B.o.B', 'Bruno Mars', 'Tinch...   \n",
       "3  ['Casting Crowns', 'Skillet', 'Casting Crowns'...   \n",
       "4  ['Chilled Pig', 'Chilled Pig', 'Chilled Pig', ...   \n",
       "\n",
       "                                   Playlist_Song_IDs  \n",
       "0  ['2meEiZKWkiN28gITzFwQo5', '1OXfWI3FQMdsKKC6lk...  \n",
       "1  ['5IZXB5IKAD2qlvTPJYDCFB', '2uqYupMHANxnwgeiXT...  \n",
       "2  ['7xkQdy0cy5ymoWT7nedvLz', '1QnvpPFP4Q3FHbDchq...  \n",
       "3  ['3s0h3pyKFrS3XX6ZLBPx6s', '6VMT3SzIMbNoR5lsUs...  \n",
       "4  ['1bE4hvWlx8gtWIMVUptOXi', '1KYe04kDLflLdoJ9kN...  "
      ]
     },
     "execution_count": 8,
     "metadata": {},
     "output_type": "execute_result"
    }
   ],
   "source": [
    "# Read in current playlist df\n",
    "df1 = pd.read_csv(\"playlist_data.csv\")\n",
    "df1.head()"
   ]
  },
  {
   "cell_type": "code",
   "execution_count": 12,
   "metadata": {},
   "outputs": [],
   "source": [
    "# Function to call spotify playlists and append to dataframe\n",
    "def add_playlists(genres, df1):\n",
    "    for genre in genres:\n",
    "        print(genre)\n",
    "        df2 = ps.get_playlist_df(genre, headers)\n",
    "        df1 = pd.concat([df1, df2])\n",
    "    return df1 "
   ]
  },
  {
   "cell_type": "code",
   "execution_count": 13,
   "metadata": {},
   "outputs": [
    {
     "data": {
      "text/plain": [
       "(2289, 6)"
      ]
     },
     "execution_count": 13,
     "metadata": {},
     "output_type": "execute_result"
    }
   ],
   "source": [
    "df1.shape"
   ]
  },
  {
   "cell_type": "code",
   "execution_count": null,
   "metadata": {},
   "outputs": [],
   "source": [
    "genres = [\"pop\", \"rock\", \"country\", \"alternative\", \"indie\", \"folk\", \"classical\", \"lofi\",\n",
    "          \"jazz\", \"rap\", \"rnb\", \"blues\", \"punk\", \"electronic\", \"dance\", \"funk\", \"house\",\n",
    "          \"reggae\", \"new wave\", \"disco\", \"ska\", \"edm\", \"hiphop\", \"soul\", \"synth\", \"grunge\", \n",
    "          \"gospel\", \"ambient\", \"techno\", \"tiktok\", \"cleaning\", \"drive\", \"roadtrip\", \"gym\", \n",
    "          \"run\", \"morning\", \"afternoon\", \"evening\", \"night\", \"club\", \"library\", \"study\", \"beach\", \"boat\",\n",
    "          \"chill\", \"party\", \"clubbing\", \"cafe\", \"50s\", \"60s\", \"70s\", \"80s\", \"90s\", \"2000\", \"2010\", \"y2k\"]\n",
    "df1 = add_playlists(genres, df1)"
   ]
  },
  {
   "cell_type": "code",
   "execution_count": null,
   "metadata": {},
   "outputs": [],
   "source": [
    "genres = [\"sad\", \"happy\", \"anxious\", \"excitied\", \"sunny\", \"cloudy\", \"rainy\", \"snow\", \n",
    "          \"warm\", \"cold\", \"soundtrack\", \"cardio\", \"lifting\", \"sleep\", \"meditation\",\n",
    "          \"nature\", \"coffeehouse\", \"cafe\", \"school\", \"chruch\", \"kids\", \"clean\", \n",
    "          \"teen\", \"adult\", \"sea shanties\", \"pregame\", \"frat\", \"darty\", \"july 4th\", \"christmas\",\n",
    "          \"xmas\", \"st pattys\", \"barbecue\", \"backyard\", \"graduation\", \"thanksgiving\", \"valentines\", \n",
    "          \"love\", \"boyfriend\", \"girlfriend\", \"easter\"]\n",
    "df1 = add_playlists(genres, df1)"
   ]
  },
  {
   "cell_type": "code",
   "execution_count": null,
   "metadata": {},
   "outputs": [],
   "source": [
    "genres = [\"radio\", \"top\", \"hits\", \"celebrity\", \"hollywood\", \"fame\", \"broadway\", \"nyc\", \"london\", \"coast\", \"gang\",\n",
    "          \"movie\", \"new\", \"beats\", \"girl\", \"boy\", \"stars\", \"family\", \"kids\", \"opera\", \"piano\", \"guitar\",\"solo\", \"crazy\",\n",
    "          \"group\", \"brit\", \"british\", \"dad\", 'mom', \"old\", \"lobby\", \"elevator\", \"goth\", \"cyber\", \"retro\", \"motown\", \"rural\", \"niche\", \n",
    "          \"underground\", \"festival\", \"setlist\", \"tour\", \"concert\", \"princess\", \"fairy\", \"romance\", \"horror\", \"tragic\"]\n",
    "df1 = add_playlists(genres, df1)"
   ]
  },
  {
   "cell_type": "code",
   "execution_count": null,
   "metadata": {},
   "outputs": [],
   "source": [
    "genres = [\"eminem\", \"madonna\", \"jackson\", \"elvis\", \"franklin\", \"dylan\", \"joni\", \"springsteen\", \"elton\", \"turner\", \n",
    "          \"prince\", \"janis\", \"jay-z\", \"tupac\", \"wonder\", \"gaye\", \"lennon\", \"bowie\", \"cash\", \"berry\", \"brown\", \"taylor\", \n",
    "          \"green\", \"mayfield\", \"whitney\", \"dolly\", \"marley\", \"hendrix\", \"young\", \"morrison\", \"otis\", \"patti\", \"hank\", \n",
    "          \"clapton\", \"mccartney\", \"mars\", \"weeknd\", \"gaga\", \"billie\", \"kendrick\", \"coldplay\", \"rihanna\", \"sza\", \"grande\",\n",
    "          \"sheeran\", \"styles\", \"bieber\", \"drake\", \"guetta\", \"dua\", \"sia\", \"post malone\", \"shakira\", \"kanye\", \"pitbull\", \n",
    "          \"adele\", \"lana\", \"radiohead\", \"creed\", \"weezer\", \"beyonce\"]"
   ]
  },
  {
   "cell_type": "code",
   "execution_count": 14,
   "metadata": {},
   "outputs": [
    {
     "data": {
      "text/plain": [
       "(2289, 6)"
      ]
     },
     "execution_count": 14,
     "metadata": {},
     "output_type": "execute_result"
    }
   ],
   "source": [
    "# Drop duplicate playlists\n",
    "df1 = df1.drop_duplicates(subset=['Playlist_ID'], keep='first')\n",
    "df1.shape"
   ]
  },
  {
   "cell_type": "code",
   "execution_count": 15,
   "metadata": {},
   "outputs": [],
   "source": [
    "# Save playlist dataframe as csv\n",
    "df1.to_csv(\"playlist_data.csv\", index=False)"
   ]
  },
  {
   "cell_type": "markdown",
   "metadata": {},
   "source": [
    "## Clean DF"
   ]
  },
  {
   "cell_type": "code",
   "execution_count": null,
   "metadata": {},
   "outputs": [],
   "source": [
    "import ast\n",
    "\n",
    "lyrics_df = pd.read_csv(\"Playlist_data_with_lyrics.csv\")\n",
    "lyrics_df[\"Playlist_Songs\"]= [ast.literal_eval(x) for x in lyrics_df['Playlist_Songs']]\n",
    "lyrics_df[\"Playlist_Artists\"] = [ast.literal_eval(x) for x in lyrics_df['Playlist_Artists']]\n",
    "lyrics_df[\"Playlist_Song_IDs\"] = [ast.literal_eval(x) for x in lyrics_df['Playlist_Song_IDs']]\n",
    "lyrics_df[\"Playlist_Lyrics\"] = [ast.literal_eval(x) for x in lyrics_df['Playlist_Lyrics']]\n",
    "lyrics_df.head()"
   ]
  },
  {
   "cell_type": "markdown",
   "metadata": {},
   "source": [
    "### Remove Non-English Playlists"
   ]
  },
  {
   "cell_type": "code",
   "execution_count": null,
   "metadata": {},
   "outputs": [],
   "source": [
    "names = list(df1[\"Playlist_Name\"])\n",
    "countries = [\"Mexican\", \"EXITOS\", \"VIEJITAS\", \"thủy\", \"Nigerian\", \"Indicann\", \"urdu\",\n",
    "             \"Pakistan\", \"Hispanic\", \"française\", \"Salsa\", \"Russian\", \"Indian\", \"Hindi\", \"DEL\"]\n",
    "songs = [playlist for playlist in names if any(word.lower() in playlist.lower() for word in countries)]\n",
    "len(songs)"
   ]
  },
  {
   "cell_type": "markdown",
   "metadata": {},
   "source": [
    "## Combine Songs and Artists Columns"
   ]
  },
  {
   "cell_type": "code",
   "execution_count": 63,
   "metadata": {},
   "outputs": [
    {
     "data": {
      "text/html": [
       "<div>\n",
       "<style scoped>\n",
       "    .dataframe tbody tr th:only-of-type {\n",
       "        vertical-align: middle;\n",
       "    }\n",
       "\n",
       "    .dataframe tbody tr th {\n",
       "        vertical-align: top;\n",
       "    }\n",
       "\n",
       "    .dataframe thead th {\n",
       "        text-align: right;\n",
       "    }\n",
       "</style>\n",
       "<table border=\"1\" class=\"dataframe\">\n",
       "  <thead>\n",
       "    <tr style=\"text-align: right;\">\n",
       "      <th></th>\n",
       "      <th>Unnamed: 0</th>\n",
       "      <th>Playlist_ID</th>\n",
       "      <th>Playlist_Name</th>\n",
       "      <th>Playlist_Description</th>\n",
       "      <th>Playlist_Songs</th>\n",
       "      <th>Playlist_Song_IDs</th>\n",
       "      <th>Playlist_Lyrics</th>\n",
       "    </tr>\n",
       "  </thead>\n",
       "  <tbody>\n",
       "    <tr>\n",
       "      <th>0</th>\n",
       "      <td>0</td>\n",
       "      <td>6mtYuOxzl58vSGnEDtZ9uB</td>\n",
       "      <td>Pop Hits 2000s – 2025</td>\n",
       "      <td>old but gold, all the best throwback songs to ...</td>\n",
       "      <td>['Into You : Ariana Grande', 'Glad You Came : ...</td>\n",
       "      <td>['2meEiZKWkiN28gITzFwQo5', '1OXfWI3FQMdsKKC6lk...</td>\n",
       "      <td>[\"[Verse 1]\\nI'm so into you, I can barely bre...</td>\n",
       "    </tr>\n",
       "    <tr>\n",
       "      <th>1</th>\n",
       "      <td>1</td>\n",
       "      <td>4Jb4PDWREzNnbZcOHPcZPy</td>\n",
       "      <td>COUNTRY HITS 2025 🔥 New Country Songs + Top Hits</td>\n",
       "      <td>best country music of 2025 most popular trendi...</td>\n",
       "      <td>['I Had Some Help (Feat. Morgan Wallen) : Post...</td>\n",
       "      <td>['5IZXB5IKAD2qlvTPJYDCFB', '2uqYupMHANxnwgeiXT...</td>\n",
       "      <td>['[Verse 1: Post Malone]\\nYou got a lotta nerv...</td>\n",
       "    </tr>\n",
       "    <tr>\n",
       "      <th>2</th>\n",
       "      <td>2</td>\n",
       "      <td>2L2HwKRvUgBv1YetudaRI3</td>\n",
       "      <td>Pop 2000-2010 Bangers</td>\n",
       "      <td>Some bangers, but no mash</td>\n",
       "      <td>['Whatcha Say : Jason Derulo', 'Airplanes (fea...</td>\n",
       "      <td>['7xkQdy0cy5ymoWT7nedvLz', '1QnvpPFP4Q3FHbDchq...</td>\n",
       "      <td>[\"[Intro: Imogen Heap, \\nJ.R. Rotem\\n]\\nWha-wh...</td>\n",
       "    </tr>\n",
       "    <tr>\n",
       "      <th>3</th>\n",
       "      <td>3</td>\n",
       "      <td>327k1ryJ7j1xD7gWKpdc6o</td>\n",
       "      <td>Popular Christian Music</td>\n",
       "      <td>NaN</td>\n",
       "      <td>['Oh My Soul : Casting Crowns', 'Stars : Skill...</td>\n",
       "      <td>['3s0h3pyKFrS3XX6ZLBPx6s', '6VMT3SzIMbNoR5lsUs...</td>\n",
       "      <td>[\"[Verse 1]\\nOh, my soul\\nOh, how you worry\\nO...</td>\n",
       "    </tr>\n",
       "    <tr>\n",
       "      <th>4</th>\n",
       "      <td>4</td>\n",
       "      <td>4muHyvSwG1wP9sI4XihC5w</td>\n",
       "      <td>Instrumental Popular Songs 2025</td>\n",
       "      <td>Instrumental Popular Songs of 2025, 2024, Upda...</td>\n",
       "      <td>['birds of a feather - piano instrumental : Ch...</td>\n",
       "      <td>['1bE4hvWlx8gtWIMVUptOXi', '1KYe04kDLflLdoJ9kN...</td>\n",
       "      <td>['Lyrics not found', 'Lyrics not found', 'Lyri...</td>\n",
       "    </tr>\n",
       "  </tbody>\n",
       "</table>\n",
       "</div>"
      ],
      "text/plain": [
       "   Unnamed: 0             Playlist_ID  \\\n",
       "0           0  6mtYuOxzl58vSGnEDtZ9uB   \n",
       "1           1  4Jb4PDWREzNnbZcOHPcZPy   \n",
       "2           2  2L2HwKRvUgBv1YetudaRI3   \n",
       "3           3  327k1ryJ7j1xD7gWKpdc6o   \n",
       "4           4  4muHyvSwG1wP9sI4XihC5w   \n",
       "\n",
       "                                      Playlist_Name  \\\n",
       "0                             Pop Hits 2000s – 2025   \n",
       "1  COUNTRY HITS 2025 🔥 New Country Songs + Top Hits   \n",
       "2                             Pop 2000-2010 Bangers   \n",
       "3                           Popular Christian Music   \n",
       "4                   Instrumental Popular Songs 2025   \n",
       "\n",
       "                                Playlist_Description  \\\n",
       "0  old but gold, all the best throwback songs to ...   \n",
       "1  best country music of 2025 most popular trendi...   \n",
       "2                          Some bangers, but no mash   \n",
       "3                                                NaN   \n",
       "4  Instrumental Popular Songs of 2025, 2024, Upda...   \n",
       "\n",
       "                                      Playlist_Songs  \\\n",
       "0  ['Into You : Ariana Grande', 'Glad You Came : ...   \n",
       "1  ['I Had Some Help (Feat. Morgan Wallen) : Post...   \n",
       "2  ['Whatcha Say : Jason Derulo', 'Airplanes (fea...   \n",
       "3  ['Oh My Soul : Casting Crowns', 'Stars : Skill...   \n",
       "4  ['birds of a feather - piano instrumental : Ch...   \n",
       "\n",
       "                                   Playlist_Song_IDs  \\\n",
       "0  ['2meEiZKWkiN28gITzFwQo5', '1OXfWI3FQMdsKKC6lk...   \n",
       "1  ['5IZXB5IKAD2qlvTPJYDCFB', '2uqYupMHANxnwgeiXT...   \n",
       "2  ['7xkQdy0cy5ymoWT7nedvLz', '1QnvpPFP4Q3FHbDchq...   \n",
       "3  ['3s0h3pyKFrS3XX6ZLBPx6s', '6VMT3SzIMbNoR5lsUs...   \n",
       "4  ['1bE4hvWlx8gtWIMVUptOXi', '1KYe04kDLflLdoJ9kN...   \n",
       "\n",
       "                                     Playlist_Lyrics  \n",
       "0  [\"[Verse 1]\\nI'm so into you, I can barely bre...  \n",
       "1  ['[Verse 1: Post Malone]\\nYou got a lotta nerv...  \n",
       "2  [\"[Intro: Imogen Heap, \\nJ.R. Rotem\\n]\\nWha-wh...  \n",
       "3  [\"[Verse 1]\\nOh, my soul\\nOh, how you worry\\nO...  \n",
       "4  ['Lyrics not found', 'Lyrics not found', 'Lyri...  "
      ]
     },
     "execution_count": 63,
     "metadata": {},
     "output_type": "execute_result"
    }
   ],
   "source": [
    "df = pd.read_csv('Playlist_data_with_lyrics.csv')\n",
    "df.head()"
   ]
  },
  {
   "cell_type": "code",
   "execution_count": 58,
   "metadata": {},
   "outputs": [],
   "source": [
    "df['Playlist_Songs'] = df.apply(lambda row: [f\"{s} : {a}\" for s, a in zip(row['Playlist_Songs'], row['Playlist_Artists'])], axis=1)"
   ]
  },
  {
   "cell_type": "code",
   "execution_count": 66,
   "metadata": {},
   "outputs": [],
   "source": [
    "df.to_csv(\"Playlist_data_with_lyrics.csv\", index=False)"
   ]
  }
 ],
 "metadata": {
  "kernelspec": {
   "display_name": "unsloth_env",
   "language": "python",
   "name": "python3"
  },
  "language_info": {
   "codemirror_mode": {
    "name": "ipython",
    "version": 3
   },
   "file_extension": ".py",
   "mimetype": "text/x-python",
   "name": "python",
   "nbconvert_exporter": "python",
   "pygments_lexer": "ipython3",
   "version": "3.12.8"
  }
 },
 "nbformat": 4,
 "nbformat_minor": 2
}
