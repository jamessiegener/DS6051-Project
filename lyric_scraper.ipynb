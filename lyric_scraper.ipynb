{
 "cells": [
  {
   "cell_type": "code",
   "execution_count": 2,
   "id": "initial_id",
   "metadata": {
    "collapsed": true,
    "ExecuteTime": {
     "end_time": "2025-03-18T15:32:04.512016Z",
     "start_time": "2025-03-18T15:32:00.914601Z"
    }
   },
   "outputs": [
    {
     "data": {
      "text/plain": "True"
     },
     "execution_count": 2,
     "metadata": {},
     "output_type": "execute_result"
    }
   ],
   "source": [
    "import os \n",
    "import pandas as pd\n",
    "import requests\n",
    "import json\n",
    "import dotenv\n",
    "import lyricscraper\n",
    "dotenv.load_dotenv()"
   ]
  },
  {
   "cell_type": "code",
   "outputs": [],
   "source": [
    "# Load in client ID and secret\n",
    "spotify_id = os.getenv('SpotifyID')\n",
    "spotify_secret = os.getenv(\"SpotifySecret\")"
   ],
   "metadata": {
    "collapsed": false,
    "ExecuteTime": {
     "end_time": "2025-03-18T15:32:08.977050Z",
     "start_time": "2025-03-18T15:32:08.972422Z"
    }
   },
   "id": "5524e1efe5247cf8",
   "execution_count": 3
  },
  {
   "cell_type": "code",
   "outputs": [],
   "source": [
    "url = \"https://accounts.spotify.com/api/token\"\n",
    "headers = {\n",
    "    \"Content-Type\": \"application/x-www-form-urlencoded\"\n",
    "}\n",
    "data = {\n",
    "    \"grant_type\": \"client_credentials\",\n",
    "    \"client_id\": spotify_id,\n",
    "    \"client_secret\": spotify_secret\n",
    "}"
   ],
   "metadata": {
    "collapsed": false,
    "ExecuteTime": {
     "end_time": "2025-03-18T15:32:10.592732Z",
     "start_time": "2025-03-18T15:32:10.537139Z"
    }
   },
   "id": "2138f49ef99b5f1c",
   "execution_count": 4
  },
  {
   "cell_type": "code",
   "outputs": [
    {
     "data": {
      "text/plain": "<Response [200]>"
     },
     "execution_count": 6,
     "metadata": {},
     "output_type": "execute_result"
    }
   ],
   "source": [
    "# Request access token (works for one hour)\n",
    "r = requests.post(url, headers=headers, data=data)\n",
    "r"
   ],
   "metadata": {
    "collapsed": false,
    "ExecuteTime": {
     "end_time": "2025-03-18T15:32:18.871546Z",
     "start_time": "2025-03-18T15:32:18.571929Z"
    }
   },
   "id": "3cfb219742e83087",
   "execution_count": 6
  },
  {
   "cell_type": "code",
   "outputs": [],
   "source": [
    "access_data = json.loads(r.text)\n",
    "access_token = access_data['access_token']\n",
    "token_type = access_data['token_type']"
   ],
   "metadata": {
    "collapsed": false,
    "ExecuteTime": {
     "end_time": "2025-03-18T15:32:20.607102Z",
     "start_time": "2025-03-18T15:32:20.223563Z"
    }
   },
   "id": "df632cde502c02c5",
   "execution_count": 7
  },
  {
   "cell_type": "code",
   "outputs": [],
   "source": [
    "# Load in API keys\n",
    "genius_id = os.getenv(\"GeniusID\")\n",
    "genius_secret = os.getenv(\"GeniusSecret\")\n",
    "genius_token = os.getenv(\"GeniusToken\")\n",
    "# Get user-agent \n",
    "r = requests.get('https://httpbin.org/user-agent')\n",
    "useragent = json.loads(r.text)['user-agent']\n",
    "headers = {'User-agent': useragent}"
   ],
   "metadata": {
    "collapsed": false,
    "ExecuteTime": {
     "end_time": "2025-03-18T15:32:57.074698Z",
     "start_time": "2025-03-18T15:32:49.147148Z"
    }
   },
   "id": "93072f30a28c5f75",
   "execution_count": 8
  },
  {
   "cell_type": "code",
   "outputs": [
    {
     "data": {
      "text/plain": "              Playlist_ID                                     Playlist_Name  \\\n0  6mtYuOxzl58vSGnEDtZ9uB                             Pop Hits 2000s – 2025   \n1  34NbomaTu7YuOYnky8nLXL                            Pop Hits 2025 (Top 50)   \n2  4Jb4PDWREzNnbZcOHPcZPy  COUNTRY HITS 2025 🔥 New Country Songs + Top Hits   \n3  1Cgey68pUlQGsCPI2wJuxr        Best of 2025 🔥 Most Popular Hits 2025 Hits   \n4  2L2HwKRvUgBv1YetudaRI3                             Pop 2000-2010 Bangers   \n\n                                      Playlist_Songs  \\\n0  ['Into You', 'Glad You Came', 'Dark Horse', 'W...   \n1  ['Die With A Smile', 'APT.', 'Espresso', \"we c...   \n2  ['I Had Some Help (Feat. Morgan Wallen)', \"Aus...   \n3  ['APT.', 'Anxiety', 'Die With A Smile', 'Messy...   \n4  ['Whatcha Say', 'Airplanes (feat. Hayley Willi...   \n\n                                    Playlist_Artists  \\\n0  ['Ariana Grande', 'The Wanted', 'Katy Perry', ...   \n1  ['Lady Gaga', 'ROSÉ', 'Sabrina Carpenter', 'Ar...   \n2  ['Post Malone', 'Dasha', 'mgk', 'Dylan Marlowe...   \n3  ['ROSÉ', 'Doechii', 'Lady Gaga', 'Lola Young',...   \n4  ['Jason Derulo', 'B.o.B', 'Bruno Mars', 'Tinch...   \n\n                                   Playlist_Song_IDs  \n0  ['2meEiZKWkiN28gITzFwQo5', '1OXfWI3FQMdsKKC6lk...  \n1  ['2plbrEY59IikOBgBGLjaoe', '5vNRhkKd0yEAg8suGB...  \n2  ['5IZXB5IKAD2qlvTPJYDCFB', '2uqYupMHANxnwgeiXT...  \n3  ['5vNRhkKd0yEAg8suGBpjeY', '1musbempyJAw5gfSKZ...  \n4  ['7xkQdy0cy5ymoWT7nedvLz', '1QnvpPFP4Q3FHbDchq...  ",
      "text/html": "<div>\n<style scoped>\n    .dataframe tbody tr th:only-of-type {\n        vertical-align: middle;\n    }\n\n    .dataframe tbody tr th {\n        vertical-align: top;\n    }\n\n    .dataframe thead th {\n        text-align: right;\n    }\n</style>\n<table border=\"1\" class=\"dataframe\">\n  <thead>\n    <tr style=\"text-align: right;\">\n      <th></th>\n      <th>Playlist_ID</th>\n      <th>Playlist_Name</th>\n      <th>Playlist_Songs</th>\n      <th>Playlist_Artists</th>\n      <th>Playlist_Song_IDs</th>\n    </tr>\n  </thead>\n  <tbody>\n    <tr>\n      <th>0</th>\n      <td>6mtYuOxzl58vSGnEDtZ9uB</td>\n      <td>Pop Hits 2000s – 2025</td>\n      <td>['Into You', 'Glad You Came', 'Dark Horse', 'W...</td>\n      <td>['Ariana Grande', 'The Wanted', 'Katy Perry', ...</td>\n      <td>['2meEiZKWkiN28gITzFwQo5', '1OXfWI3FQMdsKKC6lk...</td>\n    </tr>\n    <tr>\n      <th>1</th>\n      <td>34NbomaTu7YuOYnky8nLXL</td>\n      <td>Pop Hits 2025 (Top 50)</td>\n      <td>['Die With A Smile', 'APT.', 'Espresso', \"we c...</td>\n      <td>['Lady Gaga', 'ROSÉ', 'Sabrina Carpenter', 'Ar...</td>\n      <td>['2plbrEY59IikOBgBGLjaoe', '5vNRhkKd0yEAg8suGB...</td>\n    </tr>\n    <tr>\n      <th>2</th>\n      <td>4Jb4PDWREzNnbZcOHPcZPy</td>\n      <td>COUNTRY HITS 2025 🔥 New Country Songs + Top Hits</td>\n      <td>['I Had Some Help (Feat. Morgan Wallen)', \"Aus...</td>\n      <td>['Post Malone', 'Dasha', 'mgk', 'Dylan Marlowe...</td>\n      <td>['5IZXB5IKAD2qlvTPJYDCFB', '2uqYupMHANxnwgeiXT...</td>\n    </tr>\n    <tr>\n      <th>3</th>\n      <td>1Cgey68pUlQGsCPI2wJuxr</td>\n      <td>Best of 2025 🔥 Most Popular Hits 2025 Hits</td>\n      <td>['APT.', 'Anxiety', 'Die With A Smile', 'Messy...</td>\n      <td>['ROSÉ', 'Doechii', 'Lady Gaga', 'Lola Young',...</td>\n      <td>['5vNRhkKd0yEAg8suGBpjeY', '1musbempyJAw5gfSKZ...</td>\n    </tr>\n    <tr>\n      <th>4</th>\n      <td>2L2HwKRvUgBv1YetudaRI3</td>\n      <td>Pop 2000-2010 Bangers</td>\n      <td>['Whatcha Say', 'Airplanes (feat. Hayley Willi...</td>\n      <td>['Jason Derulo', 'B.o.B', 'Bruno Mars', 'Tinch...</td>\n      <td>['7xkQdy0cy5ymoWT7nedvLz', '1QnvpPFP4Q3FHbDchq...</td>\n    </tr>\n  </tbody>\n</table>\n</div>"
     },
     "execution_count": 9,
     "metadata": {},
     "output_type": "execute_result"
    }
   ],
   "source": [
    "playlist_data_full = pd.read_csv('playlist_data.csv')\n",
    "playlist_data_full.head()"
   ],
   "metadata": {
    "collapsed": false,
    "ExecuteTime": {
     "end_time": "2025-03-18T15:33:05.497215Z",
     "start_time": "2025-03-18T15:33:05.365728Z"
    }
   },
   "id": "e676585b19d653ac",
   "execution_count": 9
  },
  {
   "cell_type": "code",
   "outputs": [],
   "source": [
    "import ast\n",
    "playlist_data_full['Playlist_Songs'] = [ast.literal_eval(x) for x in playlist_data_full['Playlist_Songs']]\n",
    "playlist_data_full['Playlist_Artists'] = [ast.literal_eval(x) for x in playlist_data_full['Playlist_Artists']]\n"
   ],
   "metadata": {
    "collapsed": false,
    "ExecuteTime": {
     "end_time": "2025-03-18T15:33:09.251569Z",
     "start_time": "2025-03-18T15:33:08.910376Z"
    }
   },
   "id": "7fc2e6ca918a9fa8",
   "execution_count": 10
  },
  {
   "cell_type": "code",
   "outputs": [],
   "source": [
    "playlist_data = playlist_data_full.head(10)"
   ],
   "metadata": {
    "collapsed": false,
    "ExecuteTime": {
     "end_time": "2025-03-18T15:33:10.972328Z",
     "start_time": "2025-03-18T15:33:10.967814Z"
    }
   },
   "id": "29821cd5c61c51b",
   "execution_count": 11
  },
  {
   "cell_type": "code",
   "outputs": [],
   "source": [
    "genius_url_cache = {}  # {(song_title, artist): genius_url}\n",
    "lyrics_cache = {}  # {genius_url: lyrics}"
   ],
   "metadata": {
    "collapsed": false,
    "ExecuteTime": {
     "end_time": "2025-03-18T15:33:13.205332Z",
     "start_time": "2025-03-18T15:33:13.198579Z"
    }
   },
   "id": "8c4e6445b5742b00",
   "execution_count": 12
  },
  {
   "cell_type": "code",
   "outputs": [
    {
     "name": "stdout",
     "output_type": "stream",
     "text": [
      "Grabbing Genius URLs for playlist: Pop Hits 2000s – 2025\n",
      "Grabbing Genius URLs for playlist: Pop Hits 2025 (Top 50)\n",
      "Grabbing Genius URLs for playlist: COUNTRY HITS 2025 🔥 New Country Songs + Top Hits\n",
      "Grabbing Genius URLs for playlist: Best of 2025 🔥 Most Popular Hits 2025 Hits\n",
      "Grabbing Genius URLs for playlist: Pop 2000-2010 Bangers\n",
      "Grabbing Genius URLs for playlist: pop songs everyone knows 🍒\n",
      "Grabbing Genius URLs for playlist: Top Pop Hits 2015-2025\n",
      "Grabbing Genius URLs for playlist: Popular Christian Music\n",
      "Grabbing Genius URLs for playlist: Pop Punk Throwback Bangers - 2000s Emo Punk Rock Hits\n"
     ]
    }
   ],
   "source": [
    "import lyricscraper as ls\n",
    "import importlib\n",
    "\n",
    "importlib.reload(ls)\n",
    "\n",
    "playlist_lyrics = []\n",
    "all_genius_urls = []\n",
    "\n",
    "for playlist_name, songs, artists in zip(playlist_data['Playlist_Name'], playlist_data['Playlist_Songs'], playlist_data['Playlist_Artists']):\n",
    "    print(f\"Grabbing Genius URLs for playlist: {playlist_name}\")\n",
    "    genius_urls = []\n",
    "    lyrics_list = []\n",
    "    # Get Genius URLs for all songs in the playlist\n",
    "    for song_title, artist in zip(songs, artists):\n",
    "        if not song_title:\n",
    "            song_title = \"\"\n",
    "        if not artist:\n",
    "            artist = \"\"\n",
    "        song_key = (song_title.lower(), artist.lower())  # Normalize case\n",
    "        \n",
    "        if song_key in genius_url_cache:\n",
    "            url = genius_url_cache[song_key]  # Use cached URL\n",
    "        else:\n",
    "            url = ls.get_genius_url(song_title, artist, genius_token)\n",
    "            genius_url_cache[song_key] = url  # Store in cache\n",
    "        \n",
    "        genius_urls.append(url)\n",
    "        all_genius_urls.append(url)\n",
    "\n",
    "    # Get lyrics for each song using lyricscraper\n",
    "    for genius_url in genius_urls:\n",
    "        if genius_url:\n",
    "            if genius_url in lyrics_cache:\n",
    "                lyrics_list.append(lyrics_cache[genius_url])  # Use cached lyrics\n",
    "            else:\n",
    "                lyrics = ls.scrape_lyrics(genius_url)\n",
    "                if not lyrics:\n",
    "                    lyrics_list.append(\"Lyrics not found\")\n",
    "                    continue\n",
    "                lyrics_cache[genius_url] = lyrics  # Store in cache\n",
    "                lyrics_list.append(lyrics)\n",
    "        else:\n",
    "            lyrics_list.append(\"Lyrics not found\")\n",
    "    \n",
    "    playlist_lyrics.append(lyrics_list)\n",
    "\n",
    "# Add collected lyrics to the dataframe\n",
    "playlist_data = playlist_data.copy()\n",
    "playlist_data[\"Playlist_Lyrics\"] = playlist_lyrics"
   ],
   "metadata": {
    "collapsed": false,
    "ExecuteTime": {
     "end_time": "2025-03-18T19:28:16.257959Z",
     "start_time": "2025-03-18T19:28:12.424092Z"
    }
   },
   "id": "47e61c298461bce5",
   "execution_count": 35
  },
  {
   "cell_type": "code",
   "outputs": [],
   "source": [
    "playlist_data = playlist_data.copy()\n",
    "playlist_data[\"Playlist_Lyrics\"] = playlist_lyrics"
   ],
   "metadata": {
    "collapsed": false,
    "ExecuteTime": {
     "end_time": "2025-03-18T16:29:21.261199Z",
     "start_time": "2025-03-18T16:29:20.900220Z"
    }
   },
   "id": "fcc5baab0a8225d0",
   "execution_count": 18
  },
  {
   "cell_type": "code",
   "outputs": [
    {
     "data": {
      "text/plain": "              Playlist_ID                                      Playlist_Name  \\\n0  6mtYuOxzl58vSGnEDtZ9uB                              Pop Hits 2000s – 2025   \n1  34NbomaTu7YuOYnky8nLXL                             Pop Hits 2025 (Top 50)   \n2  4Jb4PDWREzNnbZcOHPcZPy   COUNTRY HITS 2025 🔥 New Country Songs + Top Hits   \n3  1Cgey68pUlQGsCPI2wJuxr         Best of 2025 🔥 Most Popular Hits 2025 Hits   \n4  2L2HwKRvUgBv1YetudaRI3                              Pop 2000-2010 Bangers   \n5  2xutOn4Ea4RyjuaRaD3jl3                         pop songs everyone knows 🍒   \n6  1WH6WVBwPBz35ZbWsgCpgr                             Top Pop Hits 2015-2025   \n7  327k1ryJ7j1xD7gWKpdc6o                            Popular Christian Music   \n8  4ASGb9HSoMEUekd7ClxZxZ  Pop Punk Throwback Bangers - 2000s Emo Punk Ro...   \n9  4muHyvSwG1wP9sI4XihC5w                    Instrumental Popular Songs 2025   \n\n                                      Playlist_Songs  \\\n0  [Into You, Glad You Came, Dark Horse, Who Knew...   \n1  [Die With A Smile, APT., Espresso, we can't be...   \n2  [I Had Some Help (Feat. Morgan Wallen), Austin...   \n3  [APT., Anxiety, Die With A Smile, Messy, Beaut...   \n4  [Whatcha Say, Airplanes (feat. Hayley Williams...   \n5  [Style (Taylor's Version), traitor, The One Th...   \n6  [Say So, Starboy, Goodbyes (feat. Young Thug),...   \n7  [Oh My Soul, Stars, Voice of Truth, You Say, I...   \n8  [Dear Maria, Count Me In, My Friends Over You,...   \n9  [birds of a feather - piano instrumental, gold...   \n\n                                    Playlist_Artists  \\\n0  [Ariana Grande, The Wanted, Katy Perry, P!nk, ...   \n1  [Lady Gaga, ROSÉ, Sabrina Carpenter, Ariana Gr...   \n2  [Post Malone, Dasha, mgk, Dylan Marlowe, Prior...   \n3  [ROSÉ, Doechii, Lady Gaga, Lola Young, Benson ...   \n4  [Jason Derulo, B.o.B, Bruno Mars, Tinchy Stryd...   \n5  [Taylor Swift, Olivia Rodrigo, Katy Perry, The...   \n6  [Doja Cat, The Weeknd, Post Malone, DaBaby, Dr...   \n7  [Casting Crowns, Skillet, Casting Crowns, Laur...   \n8  [All Time Low, New Found Glory, Jimmy Eat Worl...   \n9  [Chilled Pig, Chilled Pig, Chilled Pig, Edward...   \n\n                                   Playlist_Song_IDs  \\\n0  ['2meEiZKWkiN28gITzFwQo5', '1OXfWI3FQMdsKKC6lk...   \n1  ['2plbrEY59IikOBgBGLjaoe', '5vNRhkKd0yEAg8suGB...   \n2  ['5IZXB5IKAD2qlvTPJYDCFB', '2uqYupMHANxnwgeiXT...   \n3  ['5vNRhkKd0yEAg8suGBpjeY', '1musbempyJAw5gfSKZ...   \n4  ['7xkQdy0cy5ymoWT7nedvLz', '1QnvpPFP4Q3FHbDchq...   \n5  ['1hjRhYpWyqDpPahmSlUTlc', '5CZ40GBx1sQ9agT82C...   \n6  ['3Dv1eDb0MEgF93GpLXlucZ', '7MXVkk9YMctZqd1Srt...   \n7  ['3s0h3pyKFrS3XX6ZLBPx6s', '6VMT3SzIMbNoR5lsUs...   \n8  ['0J69x3mqm7U6tBPKsjpsWR', '12mF5rnbbT7jNqiBv8...   \n9  ['1bE4hvWlx8gtWIMVUptOXi', '1KYe04kDLflLdoJ9kN...   \n\n                                     Playlist_Lyrics  \n0  [[Verse 1]\\nI'm so into you, I can barely brea...  \n1  [[Intro: Bruno Mars]\\n(Ooh, ooh)\\n[Verse 1: Br...  \n2  [[Verse 1: Post Malone]\\nYou got a lotta nerve...  \n3  [[Intro: ROSÉ]\\n채영이가 좋아하는 랜덤 게임\\n랜덤 게임\\nGame s...  \n4  [[Intro: Imogen Heap, \\nJ.R. Rotem\\n]\\nWha-wha...  \n5  [[Verse 1]\\nMidnight\\nYou come and pick me up,...  \n6  [[Chorus]\\nDay to night to morning, keep with ...  \n7  [[Verse 1]\\nOh, my soul\\nOh, how you worry\\nOh...  \n8  [[Intro]\\nI got your picture, I'm coming with ...  \n9  [Lyrics not found, Lyrics not found, Lyrics no...  ",
      "text/html": "<div>\n<style scoped>\n    .dataframe tbody tr th:only-of-type {\n        vertical-align: middle;\n    }\n\n    .dataframe tbody tr th {\n        vertical-align: top;\n    }\n\n    .dataframe thead th {\n        text-align: right;\n    }\n</style>\n<table border=\"1\" class=\"dataframe\">\n  <thead>\n    <tr style=\"text-align: right;\">\n      <th></th>\n      <th>Playlist_ID</th>\n      <th>Playlist_Name</th>\n      <th>Playlist_Songs</th>\n      <th>Playlist_Artists</th>\n      <th>Playlist_Song_IDs</th>\n      <th>Playlist_Lyrics</th>\n    </tr>\n  </thead>\n  <tbody>\n    <tr>\n      <th>0</th>\n      <td>6mtYuOxzl58vSGnEDtZ9uB</td>\n      <td>Pop Hits 2000s – 2025</td>\n      <td>[Into You, Glad You Came, Dark Horse, Who Knew...</td>\n      <td>[Ariana Grande, The Wanted, Katy Perry, P!nk, ...</td>\n      <td>['2meEiZKWkiN28gITzFwQo5', '1OXfWI3FQMdsKKC6lk...</td>\n      <td>[[Verse 1]\\nI'm so into you, I can barely brea...</td>\n    </tr>\n    <tr>\n      <th>1</th>\n      <td>34NbomaTu7YuOYnky8nLXL</td>\n      <td>Pop Hits 2025 (Top 50)</td>\n      <td>[Die With A Smile, APT., Espresso, we can't be...</td>\n      <td>[Lady Gaga, ROSÉ, Sabrina Carpenter, Ariana Gr...</td>\n      <td>['2plbrEY59IikOBgBGLjaoe', '5vNRhkKd0yEAg8suGB...</td>\n      <td>[[Intro: Bruno Mars]\\n(Ooh, ooh)\\n[Verse 1: Br...</td>\n    </tr>\n    <tr>\n      <th>2</th>\n      <td>4Jb4PDWREzNnbZcOHPcZPy</td>\n      <td>COUNTRY HITS 2025 🔥 New Country Songs + Top Hits</td>\n      <td>[I Had Some Help (Feat. Morgan Wallen), Austin...</td>\n      <td>[Post Malone, Dasha, mgk, Dylan Marlowe, Prior...</td>\n      <td>['5IZXB5IKAD2qlvTPJYDCFB', '2uqYupMHANxnwgeiXT...</td>\n      <td>[[Verse 1: Post Malone]\\nYou got a lotta nerve...</td>\n    </tr>\n    <tr>\n      <th>3</th>\n      <td>1Cgey68pUlQGsCPI2wJuxr</td>\n      <td>Best of 2025 🔥 Most Popular Hits 2025 Hits</td>\n      <td>[APT., Anxiety, Die With A Smile, Messy, Beaut...</td>\n      <td>[ROSÉ, Doechii, Lady Gaga, Lola Young, Benson ...</td>\n      <td>['5vNRhkKd0yEAg8suGBpjeY', '1musbempyJAw5gfSKZ...</td>\n      <td>[[Intro: ROSÉ]\\n채영이가 좋아하는 랜덤 게임\\n랜덤 게임\\nGame s...</td>\n    </tr>\n    <tr>\n      <th>4</th>\n      <td>2L2HwKRvUgBv1YetudaRI3</td>\n      <td>Pop 2000-2010 Bangers</td>\n      <td>[Whatcha Say, Airplanes (feat. Hayley Williams...</td>\n      <td>[Jason Derulo, B.o.B, Bruno Mars, Tinchy Stryd...</td>\n      <td>['7xkQdy0cy5ymoWT7nedvLz', '1QnvpPFP4Q3FHbDchq...</td>\n      <td>[[Intro: Imogen Heap, \\nJ.R. Rotem\\n]\\nWha-wha...</td>\n    </tr>\n    <tr>\n      <th>5</th>\n      <td>2xutOn4Ea4RyjuaRaD3jl3</td>\n      <td>pop songs everyone knows 🍒</td>\n      <td>[Style (Taylor's Version), traitor, The One Th...</td>\n      <td>[Taylor Swift, Olivia Rodrigo, Katy Perry, The...</td>\n      <td>['1hjRhYpWyqDpPahmSlUTlc', '5CZ40GBx1sQ9agT82C...</td>\n      <td>[[Verse 1]\\nMidnight\\nYou come and pick me up,...</td>\n    </tr>\n    <tr>\n      <th>6</th>\n      <td>1WH6WVBwPBz35ZbWsgCpgr</td>\n      <td>Top Pop Hits 2015-2025</td>\n      <td>[Say So, Starboy, Goodbyes (feat. Young Thug),...</td>\n      <td>[Doja Cat, The Weeknd, Post Malone, DaBaby, Dr...</td>\n      <td>['3Dv1eDb0MEgF93GpLXlucZ', '7MXVkk9YMctZqd1Srt...</td>\n      <td>[[Chorus]\\nDay to night to morning, keep with ...</td>\n    </tr>\n    <tr>\n      <th>7</th>\n      <td>327k1ryJ7j1xD7gWKpdc6o</td>\n      <td>Popular Christian Music</td>\n      <td>[Oh My Soul, Stars, Voice of Truth, You Say, I...</td>\n      <td>[Casting Crowns, Skillet, Casting Crowns, Laur...</td>\n      <td>['3s0h3pyKFrS3XX6ZLBPx6s', '6VMT3SzIMbNoR5lsUs...</td>\n      <td>[[Verse 1]\\nOh, my soul\\nOh, how you worry\\nOh...</td>\n    </tr>\n    <tr>\n      <th>8</th>\n      <td>4ASGb9HSoMEUekd7ClxZxZ</td>\n      <td>Pop Punk Throwback Bangers - 2000s Emo Punk Ro...</td>\n      <td>[Dear Maria, Count Me In, My Friends Over You,...</td>\n      <td>[All Time Low, New Found Glory, Jimmy Eat Worl...</td>\n      <td>['0J69x3mqm7U6tBPKsjpsWR', '12mF5rnbbT7jNqiBv8...</td>\n      <td>[[Intro]\\nI got your picture, I'm coming with ...</td>\n    </tr>\n    <tr>\n      <th>9</th>\n      <td>4muHyvSwG1wP9sI4XihC5w</td>\n      <td>Instrumental Popular Songs 2025</td>\n      <td>[birds of a feather - piano instrumental, gold...</td>\n      <td>[Chilled Pig, Chilled Pig, Chilled Pig, Edward...</td>\n      <td>['1bE4hvWlx8gtWIMVUptOXi', '1KYe04kDLflLdoJ9kN...</td>\n      <td>[Lyrics not found, Lyrics not found, Lyrics no...</td>\n    </tr>\n  </tbody>\n</table>\n</div>"
     },
     "execution_count": 19,
     "metadata": {},
     "output_type": "execute_result"
    }
   ],
   "source": [
    "playlist_data"
   ],
   "metadata": {
    "collapsed": false,
    "ExecuteTime": {
     "end_time": "2025-03-18T16:29:25.153682Z",
     "start_time": "2025-03-18T16:29:25.149061Z"
    }
   },
   "id": "88c84b305ff0e044",
   "execution_count": 19
  },
  {
   "cell_type": "code",
   "outputs": [],
   "source": [
    "playlist_data.to_csv(\"Playlist_data_with_lyrics.csv\")"
   ],
   "metadata": {
    "collapsed": false,
    "ExecuteTime": {
     "end_time": "2025-03-18T16:31:07.483694Z",
     "start_time": "2025-03-18T16:31:07.444036Z"
    }
   },
   "id": "1b841af71fa71d2d",
   "execution_count": 21
  },
  {
   "cell_type": "code",
   "outputs": [],
   "source": [
    "playlist_data = playlist_data.head(9)"
   ],
   "metadata": {
    "collapsed": false,
    "ExecuteTime": {
     "end_time": "2025-03-18T16:57:00.443430Z",
     "start_time": "2025-03-18T16:57:00.424782Z"
    }
   },
   "id": "7fce6eb433ce602",
   "execution_count": 22
  },
  {
   "cell_type": "code",
   "outputs": [
    {
     "data": {
      "text/plain": "              Playlist_ID                                      Playlist_Name  \\\n0  6mtYuOxzl58vSGnEDtZ9uB                              Pop Hits 2000s – 2025   \n1  34NbomaTu7YuOYnky8nLXL                             Pop Hits 2025 (Top 50)   \n2  4Jb4PDWREzNnbZcOHPcZPy   COUNTRY HITS 2025 🔥 New Country Songs + Top Hits   \n3  1Cgey68pUlQGsCPI2wJuxr         Best of 2025 🔥 Most Popular Hits 2025 Hits   \n4  2L2HwKRvUgBv1YetudaRI3                              Pop 2000-2010 Bangers   \n5  2xutOn4Ea4RyjuaRaD3jl3                         pop songs everyone knows 🍒   \n6  1WH6WVBwPBz35ZbWsgCpgr                             Top Pop Hits 2015-2025   \n7  327k1ryJ7j1xD7gWKpdc6o                            Popular Christian Music   \n8  4ASGb9HSoMEUekd7ClxZxZ  Pop Punk Throwback Bangers - 2000s Emo Punk Ro...   \n\n                                      Playlist_Songs  \\\n0  [Into You, Glad You Came, Dark Horse, Who Knew...   \n1  [Die With A Smile, APT., Espresso, we can't be...   \n2  [I Had Some Help (Feat. Morgan Wallen), Austin...   \n3  [APT., Anxiety, Die With A Smile, Messy, Beaut...   \n4  [Whatcha Say, Airplanes (feat. Hayley Williams...   \n5  [Style (Taylor's Version), traitor, The One Th...   \n6  [Say So, Starboy, Goodbyes (feat. Young Thug),...   \n7  [Oh My Soul, Stars, Voice of Truth, You Say, I...   \n8  [Dear Maria, Count Me In, My Friends Over You,...   \n\n                                    Playlist_Artists  \\\n0  [Ariana Grande, The Wanted, Katy Perry, P!nk, ...   \n1  [Lady Gaga, ROSÉ, Sabrina Carpenter, Ariana Gr...   \n2  [Post Malone, Dasha, mgk, Dylan Marlowe, Prior...   \n3  [ROSÉ, Doechii, Lady Gaga, Lola Young, Benson ...   \n4  [Jason Derulo, B.o.B, Bruno Mars, Tinchy Stryd...   \n5  [Taylor Swift, Olivia Rodrigo, Katy Perry, The...   \n6  [Doja Cat, The Weeknd, Post Malone, DaBaby, Dr...   \n7  [Casting Crowns, Skillet, Casting Crowns, Laur...   \n8  [All Time Low, New Found Glory, Jimmy Eat Worl...   \n\n                                   Playlist_Song_IDs  \\\n0  ['2meEiZKWkiN28gITzFwQo5', '1OXfWI3FQMdsKKC6lk...   \n1  ['2plbrEY59IikOBgBGLjaoe', '5vNRhkKd0yEAg8suGB...   \n2  ['5IZXB5IKAD2qlvTPJYDCFB', '2uqYupMHANxnwgeiXT...   \n3  ['5vNRhkKd0yEAg8suGBpjeY', '1musbempyJAw5gfSKZ...   \n4  ['7xkQdy0cy5ymoWT7nedvLz', '1QnvpPFP4Q3FHbDchq...   \n5  ['1hjRhYpWyqDpPahmSlUTlc', '5CZ40GBx1sQ9agT82C...   \n6  ['3Dv1eDb0MEgF93GpLXlucZ', '7MXVkk9YMctZqd1Srt...   \n7  ['3s0h3pyKFrS3XX6ZLBPx6s', '6VMT3SzIMbNoR5lsUs...   \n8  ['0J69x3mqm7U6tBPKsjpsWR', '12mF5rnbbT7jNqiBv8...   \n\n                                     Playlist_Lyrics  \n0  [[Verse 1]\\nI'm so into you, I can barely brea...  \n1  [[Intro: Bruno Mars]\\n(Ooh, ooh)\\n[Verse 1: Br...  \n2  [[Verse 1: Post Malone]\\nYou got a lotta nerve...  \n3  [[Intro: ROSÉ]\\n채영이가 좋아하는 랜덤 게임\\n랜덤 게임\\nGame s...  \n4  [[Intro: Imogen Heap, \\nJ.R. Rotem\\n]\\nWha-wha...  \n5  [[Verse 1]\\nMidnight\\nYou come and pick me up,...  \n6  [[Chorus]\\nDay to night to morning, keep with ...  \n7  [[Verse 1]\\nOh, my soul\\nOh, how you worry\\nOh...  \n8  [[Intro]\\nI got your picture, I'm coming with ...  ",
      "text/html": "<div>\n<style scoped>\n    .dataframe tbody tr th:only-of-type {\n        vertical-align: middle;\n    }\n\n    .dataframe tbody tr th {\n        vertical-align: top;\n    }\n\n    .dataframe thead th {\n        text-align: right;\n    }\n</style>\n<table border=\"1\" class=\"dataframe\">\n  <thead>\n    <tr style=\"text-align: right;\">\n      <th></th>\n      <th>Playlist_ID</th>\n      <th>Playlist_Name</th>\n      <th>Playlist_Songs</th>\n      <th>Playlist_Artists</th>\n      <th>Playlist_Song_IDs</th>\n      <th>Playlist_Lyrics</th>\n    </tr>\n  </thead>\n  <tbody>\n    <tr>\n      <th>0</th>\n      <td>6mtYuOxzl58vSGnEDtZ9uB</td>\n      <td>Pop Hits 2000s – 2025</td>\n      <td>[Into You, Glad You Came, Dark Horse, Who Knew...</td>\n      <td>[Ariana Grande, The Wanted, Katy Perry, P!nk, ...</td>\n      <td>['2meEiZKWkiN28gITzFwQo5', '1OXfWI3FQMdsKKC6lk...</td>\n      <td>[[Verse 1]\\nI'm so into you, I can barely brea...</td>\n    </tr>\n    <tr>\n      <th>1</th>\n      <td>34NbomaTu7YuOYnky8nLXL</td>\n      <td>Pop Hits 2025 (Top 50)</td>\n      <td>[Die With A Smile, APT., Espresso, we can't be...</td>\n      <td>[Lady Gaga, ROSÉ, Sabrina Carpenter, Ariana Gr...</td>\n      <td>['2plbrEY59IikOBgBGLjaoe', '5vNRhkKd0yEAg8suGB...</td>\n      <td>[[Intro: Bruno Mars]\\n(Ooh, ooh)\\n[Verse 1: Br...</td>\n    </tr>\n    <tr>\n      <th>2</th>\n      <td>4Jb4PDWREzNnbZcOHPcZPy</td>\n      <td>COUNTRY HITS 2025 🔥 New Country Songs + Top Hits</td>\n      <td>[I Had Some Help (Feat. Morgan Wallen), Austin...</td>\n      <td>[Post Malone, Dasha, mgk, Dylan Marlowe, Prior...</td>\n      <td>['5IZXB5IKAD2qlvTPJYDCFB', '2uqYupMHANxnwgeiXT...</td>\n      <td>[[Verse 1: Post Malone]\\nYou got a lotta nerve...</td>\n    </tr>\n    <tr>\n      <th>3</th>\n      <td>1Cgey68pUlQGsCPI2wJuxr</td>\n      <td>Best of 2025 🔥 Most Popular Hits 2025 Hits</td>\n      <td>[APT., Anxiety, Die With A Smile, Messy, Beaut...</td>\n      <td>[ROSÉ, Doechii, Lady Gaga, Lola Young, Benson ...</td>\n      <td>['5vNRhkKd0yEAg8suGBpjeY', '1musbempyJAw5gfSKZ...</td>\n      <td>[[Intro: ROSÉ]\\n채영이가 좋아하는 랜덤 게임\\n랜덤 게임\\nGame s...</td>\n    </tr>\n    <tr>\n      <th>4</th>\n      <td>2L2HwKRvUgBv1YetudaRI3</td>\n      <td>Pop 2000-2010 Bangers</td>\n      <td>[Whatcha Say, Airplanes (feat. Hayley Williams...</td>\n      <td>[Jason Derulo, B.o.B, Bruno Mars, Tinchy Stryd...</td>\n      <td>['7xkQdy0cy5ymoWT7nedvLz', '1QnvpPFP4Q3FHbDchq...</td>\n      <td>[[Intro: Imogen Heap, \\nJ.R. Rotem\\n]\\nWha-wha...</td>\n    </tr>\n    <tr>\n      <th>5</th>\n      <td>2xutOn4Ea4RyjuaRaD3jl3</td>\n      <td>pop songs everyone knows 🍒</td>\n      <td>[Style (Taylor's Version), traitor, The One Th...</td>\n      <td>[Taylor Swift, Olivia Rodrigo, Katy Perry, The...</td>\n      <td>['1hjRhYpWyqDpPahmSlUTlc', '5CZ40GBx1sQ9agT82C...</td>\n      <td>[[Verse 1]\\nMidnight\\nYou come and pick me up,...</td>\n    </tr>\n    <tr>\n      <th>6</th>\n      <td>1WH6WVBwPBz35ZbWsgCpgr</td>\n      <td>Top Pop Hits 2015-2025</td>\n      <td>[Say So, Starboy, Goodbyes (feat. Young Thug),...</td>\n      <td>[Doja Cat, The Weeknd, Post Malone, DaBaby, Dr...</td>\n      <td>['3Dv1eDb0MEgF93GpLXlucZ', '7MXVkk9YMctZqd1Srt...</td>\n      <td>[[Chorus]\\nDay to night to morning, keep with ...</td>\n    </tr>\n    <tr>\n      <th>7</th>\n      <td>327k1ryJ7j1xD7gWKpdc6o</td>\n      <td>Popular Christian Music</td>\n      <td>[Oh My Soul, Stars, Voice of Truth, You Say, I...</td>\n      <td>[Casting Crowns, Skillet, Casting Crowns, Laur...</td>\n      <td>['3s0h3pyKFrS3XX6ZLBPx6s', '6VMT3SzIMbNoR5lsUs...</td>\n      <td>[[Verse 1]\\nOh, my soul\\nOh, how you worry\\nOh...</td>\n    </tr>\n    <tr>\n      <th>8</th>\n      <td>4ASGb9HSoMEUekd7ClxZxZ</td>\n      <td>Pop Punk Throwback Bangers - 2000s Emo Punk Ro...</td>\n      <td>[Dear Maria, Count Me In, My Friends Over You,...</td>\n      <td>[All Time Low, New Found Glory, Jimmy Eat Worl...</td>\n      <td>['0J69x3mqm7U6tBPKsjpsWR', '12mF5rnbbT7jNqiBv8...</td>\n      <td>[[Intro]\\nI got your picture, I'm coming with ...</td>\n    </tr>\n  </tbody>\n</table>\n</div>"
     },
     "execution_count": 23,
     "metadata": {},
     "output_type": "execute_result"
    }
   ],
   "source": [
    "playlist_data"
   ],
   "metadata": {
    "collapsed": false,
    "ExecuteTime": {
     "end_time": "2025-03-18T16:57:05.496462Z",
     "start_time": "2025-03-18T16:57:05.471530Z"
    }
   },
   "id": "eac833017a33f1a8",
   "execution_count": 23
  },
  {
   "cell_type": "code",
   "outputs": [
    {
     "data": {
      "text/plain": "0"
     },
     "execution_count": 30,
     "metadata": {},
     "output_type": "execute_result"
    }
   ],
   "source": [
    "lyrics_not_found_count = sum(1 for lyrics in playlist_data[\"Playlist_Lyrics\"][2] if lyrics == [\"Lyrics not found\"])\n",
    "lyrics_not_found_count\n"
   ],
   "metadata": {
    "collapsed": false,
    "ExecuteTime": {
     "end_time": "2025-03-18T17:00:22.502621Z",
     "start_time": "2025-03-18T17:00:22.481353Z"
    }
   },
   "id": "14e4114ad1315dc6",
   "execution_count": 30
  },
  {
   "cell_type": "code",
   "outputs": [
    {
     "data": {
      "text/plain": "849"
     },
     "execution_count": 33,
     "metadata": {},
     "output_type": "execute_result"
    }
   ],
   "source": [
    "total_songs = sum(len(lyrics_list) for lyrics_list in playlist_data[\"Playlist_Lyrics\"])\n",
    "total_songs"
   ],
   "metadata": {
    "collapsed": false,
    "ExecuteTime": {
     "end_time": "2025-03-18T17:04:51.446404Z",
     "start_time": "2025-03-18T17:04:51.442023Z"
    }
   },
   "id": "2a261675cf61116d",
   "execution_count": 33
  },
  {
   "cell_type": "code",
   "outputs": [
    {
     "data": {
      "text/plain": "51"
     },
     "execution_count": 34,
     "metadata": {},
     "output_type": "execute_result"
    }
   ],
   "source": [
    "lyrics_not_found_count = sum(lyrics_list.count(\"Lyrics not found\") for lyrics_list in playlist_data[\"Playlist_Lyrics\"])\n",
    "lyrics_not_found_count"
   ],
   "metadata": {
    "collapsed": false,
    "ExecuteTime": {
     "end_time": "2025-03-18T17:05:22.215411Z",
     "start_time": "2025-03-18T17:05:22.168104Z"
    }
   },
   "id": "fd1d66b10c6fecdb",
   "execution_count": 34
  }
 ],
 "metadata": {
  "kernelspec": {
   "display_name": "Python 3",
   "language": "python",
   "name": "python3"
  },
  "language_info": {
   "codemirror_mode": {
    "name": "ipython",
    "version": 2
   },
   "file_extension": ".py",
   "mimetype": "text/x-python",
   "name": "python",
   "nbconvert_exporter": "python",
   "pygments_lexer": "ipython2",
   "version": "2.7.6"
  }
 },
 "nbformat": 4,
 "nbformat_minor": 5
}
