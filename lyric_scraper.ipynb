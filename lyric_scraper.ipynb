{
 "cells": [
  {
   "cell_type": "code",
   "execution_count": 1,
   "id": "initial_id",
   "metadata": {
    "collapsed": true,
    "ExecuteTime": {
     "end_time": "2025-04-03T19:40:55.595168Z",
     "start_time": "2025-04-03T19:40:54.628399Z"
    }
   },
   "outputs": [
    {
     "data": {
      "text/plain": "True"
     },
     "execution_count": 1,
     "metadata": {},
     "output_type": "execute_result"
    }
   ],
   "source": [
    "import os \n",
    "import pandas as pd\n",
    "import requests\n",
    "import json\n",
    "import dotenv\n",
    "import lyricscraper\n",
    "dotenv.load_dotenv()"
   ]
  },
  {
   "cell_type": "code",
   "outputs": [],
   "source": [
    "# Load in client ID and secret\n",
    "spotify_id = os.getenv('SpotifyID')\n",
    "spotify_secret = os.getenv(\"SpotifySecret\")"
   ],
   "metadata": {
    "collapsed": false,
    "ExecuteTime": {
     "end_time": "2025-04-03T19:40:59.492924Z",
     "start_time": "2025-04-03T19:40:59.474793Z"
    }
   },
   "id": "5524e1efe5247cf8",
   "execution_count": 2
  },
  {
   "cell_type": "code",
   "outputs": [],
   "source": [
    "url = \"https://accounts.spotify.com/api/token\"\n",
    "headers = {\n",
    "    \"Content-Type\": \"application/x-www-form-urlencoded\"\n",
    "}\n",
    "data = {\n",
    "    \"grant_type\": \"client_credentials\",\n",
    "    \"client_id\": spotify_id,\n",
    "    \"client_secret\": spotify_secret\n",
    "}"
   ],
   "metadata": {
    "collapsed": false,
    "ExecuteTime": {
     "end_time": "2025-04-03T19:41:00.068520Z",
     "start_time": "2025-04-03T19:41:00.047092Z"
    }
   },
   "id": "2138f49ef99b5f1c",
   "execution_count": 3
  },
  {
   "cell_type": "code",
   "outputs": [
    {
     "data": {
      "text/plain": "<Response [200]>"
     },
     "execution_count": 4,
     "metadata": {},
     "output_type": "execute_result"
    }
   ],
   "source": [
    "# Request access token (works for one hour)\n",
    "r = requests.post(url, headers=headers, data=data)\n",
    "r"
   ],
   "metadata": {
    "collapsed": false,
    "ExecuteTime": {
     "end_time": "2025-04-03T19:41:03.452575Z",
     "start_time": "2025-04-03T19:41:02.906973Z"
    }
   },
   "id": "3cfb219742e83087",
   "execution_count": 4
  },
  {
   "cell_type": "code",
   "outputs": [],
   "source": [
    "access_data = json.loads(r.text)\n",
    "access_token = access_data['access_token']\n",
    "token_type = access_data['token_type']"
   ],
   "metadata": {
    "collapsed": false,
    "ExecuteTime": {
     "end_time": "2025-04-03T19:41:03.733058Z",
     "start_time": "2025-04-03T19:41:03.708495Z"
    }
   },
   "id": "df632cde502c02c5",
   "execution_count": 5
  },
  {
   "cell_type": "code",
   "outputs": [],
   "source": [
    "# Load in API keys\n",
    "genius_id = os.getenv(\"GeniusID\")\n",
    "genius_secret = os.getenv(\"GeniusSecret\")\n",
    "genius_token = os.getenv(\"GeniusToken\")\n",
    "# Get user-agent \n",
    "r = requests.get('https://httpbin.org/user-agent')\n",
    "useragent = json.loads(r.text)['user-agent']\n",
    "headers = {'User-agent': useragent}"
   ],
   "metadata": {
    "collapsed": false,
    "ExecuteTime": {
     "end_time": "2025-04-03T19:41:06.612059Z",
     "start_time": "2025-04-03T19:41:04.592206Z"
    }
   },
   "id": "93072f30a28c5f75",
   "execution_count": 6
  },
  {
   "cell_type": "code",
   "outputs": [
    {
     "data": {
      "text/plain": "              Playlist_ID                                     Playlist_Name  \\\n0  6mtYuOxzl58vSGnEDtZ9uB                             Pop Hits 2000s – 2025   \n1  34NbomaTu7YuOYnky8nLXL                            Pop Hits 2025 (Top 50)   \n2  4Jb4PDWREzNnbZcOHPcZPy  COUNTRY HITS 2025 🔥 New Country Songs + Top Hits   \n3  1Cgey68pUlQGsCPI2wJuxr        Best of 2025 🔥 Most Popular Hits 2025 Hits   \n4  2L2HwKRvUgBv1YetudaRI3                             Pop 2000-2010 Bangers   \n\n                                      Playlist_Songs  \\\n0  ['Into You', 'Glad You Came', 'Dark Horse', 'W...   \n1  ['Die With A Smile', 'APT.', 'Espresso', \"we c...   \n2  ['I Had Some Help (Feat. Morgan Wallen)', \"Aus...   \n3  ['APT.', 'Anxiety', 'Die With A Smile', 'Messy...   \n4  ['Whatcha Say', 'Airplanes (feat. Hayley Willi...   \n\n                                    Playlist_Artists  \\\n0  ['Ariana Grande', 'The Wanted', 'Katy Perry', ...   \n1  ['Lady Gaga', 'ROSÉ', 'Sabrina Carpenter', 'Ar...   \n2  ['Post Malone', 'Dasha', 'mgk', 'Dylan Marlowe...   \n3  ['ROSÉ', 'Doechii', 'Lady Gaga', 'Lola Young',...   \n4  ['Jason Derulo', 'B.o.B', 'Bruno Mars', 'Tinch...   \n\n                                   Playlist_Song_IDs  \n0  ['2meEiZKWkiN28gITzFwQo5', '1OXfWI3FQMdsKKC6lk...  \n1  ['2plbrEY59IikOBgBGLjaoe', '5vNRhkKd0yEAg8suGB...  \n2  ['5IZXB5IKAD2qlvTPJYDCFB', '2uqYupMHANxnwgeiXT...  \n3  ['5vNRhkKd0yEAg8suGBpjeY', '1musbempyJAw5gfSKZ...  \n4  ['7xkQdy0cy5ymoWT7nedvLz', '1QnvpPFP4Q3FHbDchq...  ",
      "text/html": "<div>\n<style scoped>\n    .dataframe tbody tr th:only-of-type {\n        vertical-align: middle;\n    }\n\n    .dataframe tbody tr th {\n        vertical-align: top;\n    }\n\n    .dataframe thead th {\n        text-align: right;\n    }\n</style>\n<table border=\"1\" class=\"dataframe\">\n  <thead>\n    <tr style=\"text-align: right;\">\n      <th></th>\n      <th>Playlist_ID</th>\n      <th>Playlist_Name</th>\n      <th>Playlist_Songs</th>\n      <th>Playlist_Artists</th>\n      <th>Playlist_Song_IDs</th>\n    </tr>\n  </thead>\n  <tbody>\n    <tr>\n      <th>0</th>\n      <td>6mtYuOxzl58vSGnEDtZ9uB</td>\n      <td>Pop Hits 2000s – 2025</td>\n      <td>['Into You', 'Glad You Came', 'Dark Horse', 'W...</td>\n      <td>['Ariana Grande', 'The Wanted', 'Katy Perry', ...</td>\n      <td>['2meEiZKWkiN28gITzFwQo5', '1OXfWI3FQMdsKKC6lk...</td>\n    </tr>\n    <tr>\n      <th>1</th>\n      <td>34NbomaTu7YuOYnky8nLXL</td>\n      <td>Pop Hits 2025 (Top 50)</td>\n      <td>['Die With A Smile', 'APT.', 'Espresso', \"we c...</td>\n      <td>['Lady Gaga', 'ROSÉ', 'Sabrina Carpenter', 'Ar...</td>\n      <td>['2plbrEY59IikOBgBGLjaoe', '5vNRhkKd0yEAg8suGB...</td>\n    </tr>\n    <tr>\n      <th>2</th>\n      <td>4Jb4PDWREzNnbZcOHPcZPy</td>\n      <td>COUNTRY HITS 2025 🔥 New Country Songs + Top Hits</td>\n      <td>['I Had Some Help (Feat. Morgan Wallen)', \"Aus...</td>\n      <td>['Post Malone', 'Dasha', 'mgk', 'Dylan Marlowe...</td>\n      <td>['5IZXB5IKAD2qlvTPJYDCFB', '2uqYupMHANxnwgeiXT...</td>\n    </tr>\n    <tr>\n      <th>3</th>\n      <td>1Cgey68pUlQGsCPI2wJuxr</td>\n      <td>Best of 2025 🔥 Most Popular Hits 2025 Hits</td>\n      <td>['APT.', 'Anxiety', 'Die With A Smile', 'Messy...</td>\n      <td>['ROSÉ', 'Doechii', 'Lady Gaga', 'Lola Young',...</td>\n      <td>['5vNRhkKd0yEAg8suGBpjeY', '1musbempyJAw5gfSKZ...</td>\n    </tr>\n    <tr>\n      <th>4</th>\n      <td>2L2HwKRvUgBv1YetudaRI3</td>\n      <td>Pop 2000-2010 Bangers</td>\n      <td>['Whatcha Say', 'Airplanes (feat. Hayley Willi...</td>\n      <td>['Jason Derulo', 'B.o.B', 'Bruno Mars', 'Tinch...</td>\n      <td>['7xkQdy0cy5ymoWT7nedvLz', '1QnvpPFP4Q3FHbDchq...</td>\n    </tr>\n  </tbody>\n</table>\n</div>"
     },
     "execution_count": 7,
     "metadata": {},
     "output_type": "execute_result"
    }
   ],
   "source": [
    "playlist_data_full = pd.read_csv('playlist_data.csv')\n",
    "playlist_data_full.head()"
   ],
   "metadata": {
    "collapsed": false,
    "ExecuteTime": {
     "end_time": "2025-04-03T19:41:09.411299Z",
     "start_time": "2025-04-03T19:41:09.290554Z"
    }
   },
   "id": "e676585b19d653ac",
   "execution_count": 7
  },
  {
   "cell_type": "code",
   "outputs": [],
   "source": [
    "genius_url_cache = {}  # {(song_title, artist): genius_url}\n",
    "lyrics_cache = {}  # {genius_url: lyrics}\n",
    "failed_song_counts = {}  # Dictionary to track missing songs"
   ],
   "metadata": {
    "collapsed": false,
    "ExecuteTime": {
     "end_time": "2025-04-03T19:41:20.888093Z",
     "start_time": "2025-04-03T19:41:20.868715Z"
    }
   },
   "id": "8c4e6445b5742b00",
   "execution_count": 9
  },
  {
   "cell_type": "code",
   "outputs": [
    {
     "name": "stdout",
     "output_type": "stream",
     "text": [
      "Grabbing Genius URLs for playlist: Pop Hits 2000s – 2025\n",
      "No valid match found for: what i want by lil meta\n",
      "No valid match found for: devil by solina\n",
      "No valid match found for: rhude by lindasson\n",
      "No valid match found for: sara by kenzo cregan\n"
     ]
    },
    {
     "ename": "KeyboardInterrupt",
     "evalue": "",
     "output_type": "error",
     "traceback": [
      "\u001B[0;31m---------------------------------------------------------------------------\u001B[0m",
      "\u001B[0;31mKeyboardInterrupt\u001B[0m                         Traceback (most recent call last)",
      "Cell \u001B[0;32mIn[10], line 55\u001B[0m\n\u001B[1;32m     53\u001B[0m \u001B[38;5;66;03m# Use ThreadPoolExecutor to parallelize lyrics scraping\u001B[39;00m\n\u001B[1;32m     54\u001B[0m \u001B[38;5;28;01mwith\u001B[39;00m concurrent\u001B[38;5;241m.\u001B[39mfutures\u001B[38;5;241m.\u001B[39mThreadPoolExecutor() \u001B[38;5;28;01mas\u001B[39;00m executor:\n\u001B[0;32m---> 55\u001B[0m     lyrics_list \u001B[38;5;241m=\u001B[39m \u001B[38;5;28mlist\u001B[39m(executor\u001B[38;5;241m.\u001B[39mmap(fetch_lyrics, genius_urls))\n\u001B[1;32m     57\u001B[0m playlist_lyrics\u001B[38;5;241m.\u001B[39mappend(lyrics_list)  \u001B[38;5;66;03m# or extend(lyrics_list) if you want a flat list\u001B[39;00m\n\u001B[1;32m     59\u001B[0m success \u001B[38;5;241m=\u001B[39m \u001B[38;5;28;01mTrue\u001B[39;00m  \u001B[38;5;66;03m# If everything is successful, exit the retry loop\u001B[39;00m\n",
      "File \u001B[0;32m/opt/anaconda3/lib/python3.11/concurrent/futures/_base.py:619\u001B[0m, in \u001B[0;36mExecutor.map.<locals>.result_iterator\u001B[0;34m()\u001B[0m\n\u001B[1;32m    616\u001B[0m \u001B[38;5;28;01mwhile\u001B[39;00m fs:\n\u001B[1;32m    617\u001B[0m     \u001B[38;5;66;03m# Careful not to keep a reference to the popped future\u001B[39;00m\n\u001B[1;32m    618\u001B[0m     \u001B[38;5;28;01mif\u001B[39;00m timeout \u001B[38;5;129;01mis\u001B[39;00m \u001B[38;5;28;01mNone\u001B[39;00m:\n\u001B[0;32m--> 619\u001B[0m         \u001B[38;5;28;01myield\u001B[39;00m _result_or_cancel(fs\u001B[38;5;241m.\u001B[39mpop())\n\u001B[1;32m    620\u001B[0m     \u001B[38;5;28;01melse\u001B[39;00m:\n\u001B[1;32m    621\u001B[0m         \u001B[38;5;28;01myield\u001B[39;00m _result_or_cancel(fs\u001B[38;5;241m.\u001B[39mpop(), end_time \u001B[38;5;241m-\u001B[39m time\u001B[38;5;241m.\u001B[39mmonotonic())\n",
      "File \u001B[0;32m/opt/anaconda3/lib/python3.11/concurrent/futures/_base.py:317\u001B[0m, in \u001B[0;36m_result_or_cancel\u001B[0;34m(***failed resolving arguments***)\u001B[0m\n\u001B[1;32m    315\u001B[0m \u001B[38;5;28;01mtry\u001B[39;00m:\n\u001B[1;32m    316\u001B[0m     \u001B[38;5;28;01mtry\u001B[39;00m:\n\u001B[0;32m--> 317\u001B[0m         \u001B[38;5;28;01mreturn\u001B[39;00m fut\u001B[38;5;241m.\u001B[39mresult(timeout)\n\u001B[1;32m    318\u001B[0m     \u001B[38;5;28;01mfinally\u001B[39;00m:\n\u001B[1;32m    319\u001B[0m         fut\u001B[38;5;241m.\u001B[39mcancel()\n",
      "File \u001B[0;32m/opt/anaconda3/lib/python3.11/concurrent/futures/_base.py:451\u001B[0m, in \u001B[0;36mFuture.result\u001B[0;34m(self, timeout)\u001B[0m\n\u001B[1;32m    448\u001B[0m \u001B[38;5;28;01melif\u001B[39;00m \u001B[38;5;28mself\u001B[39m\u001B[38;5;241m.\u001B[39m_state \u001B[38;5;241m==\u001B[39m FINISHED:\n\u001B[1;32m    449\u001B[0m     \u001B[38;5;28;01mreturn\u001B[39;00m \u001B[38;5;28mself\u001B[39m\u001B[38;5;241m.\u001B[39m__get_result()\n\u001B[0;32m--> 451\u001B[0m \u001B[38;5;28mself\u001B[39m\u001B[38;5;241m.\u001B[39m_condition\u001B[38;5;241m.\u001B[39mwait(timeout)\n\u001B[1;32m    453\u001B[0m \u001B[38;5;28;01mif\u001B[39;00m \u001B[38;5;28mself\u001B[39m\u001B[38;5;241m.\u001B[39m_state \u001B[38;5;129;01min\u001B[39;00m [CANCELLED, CANCELLED_AND_NOTIFIED]:\n\u001B[1;32m    454\u001B[0m     \u001B[38;5;28;01mraise\u001B[39;00m CancelledError()\n",
      "File \u001B[0;32m/opt/anaconda3/lib/python3.11/threading.py:327\u001B[0m, in \u001B[0;36mCondition.wait\u001B[0;34m(self, timeout)\u001B[0m\n\u001B[1;32m    325\u001B[0m \u001B[38;5;28;01mtry\u001B[39;00m:    \u001B[38;5;66;03m# restore state no matter what (e.g., KeyboardInterrupt)\u001B[39;00m\n\u001B[1;32m    326\u001B[0m     \u001B[38;5;28;01mif\u001B[39;00m timeout \u001B[38;5;129;01mis\u001B[39;00m \u001B[38;5;28;01mNone\u001B[39;00m:\n\u001B[0;32m--> 327\u001B[0m         waiter\u001B[38;5;241m.\u001B[39macquire()\n\u001B[1;32m    328\u001B[0m         gotit \u001B[38;5;241m=\u001B[39m \u001B[38;5;28;01mTrue\u001B[39;00m\n\u001B[1;32m    329\u001B[0m     \u001B[38;5;28;01melse\u001B[39;00m:\n",
      "\u001B[0;31mKeyboardInterrupt\u001B[0m: "
     ]
    }
   ],
   "source": [
    "import time\n",
    "import lyricscraper as ls\n",
    "import importlib\n",
    "import concurrent.futures\n",
    "\n",
    "importlib.reload(ls)\n",
    "\n",
    "playlist_lyrics = []\n",
    "playlist_data = playlist_data_full.copy()\n",
    "\n",
    "def fetch_genius_url(song_title, artist, genius_token):\n",
    "    \"\"\"Helper function to fetch Genius URL with caching and failure tracking.\"\"\"\n",
    "    if not song_title:\n",
    "        song_title = \"\"\n",
    "    if not artist:\n",
    "        artist = \"\"\n",
    "    song_key = (song_title.lower(), artist.lower())  # Normalize case\n",
    "    \n",
    "    if song_key in genius_url_cache:\n",
    "        return genius_url_cache[song_key]  # Use cached URL\n",
    "    \n",
    "    url = ls.get_genius_url(song_title, artist, genius_token)\n",
    "    genius_url_cache[song_key] = url  # Store in cache\n",
    "\n",
    "    # Track failures if the URL is None\n",
    "    if url is None:\n",
    "        failed_song_counts[song_key] = failed_song_counts.get(song_key, 0) + 1\n",
    "\n",
    "    return url\n",
    "\n",
    "def fetch_lyrics(genius_url):\n",
    "    \"\"\"Helper function to fetch lyrics with caching.\"\"\"\n",
    "    if not genius_url:\n",
    "        return \"Lyrics not found\"\n",
    "    \n",
    "    if genius_url in lyrics_cache:\n",
    "        return lyrics_cache[genius_url]  # Use cached lyrics\n",
    "    \n",
    "    lyrics = ls.scrape_lyrics(genius_url)\n",
    "    lyrics_cache[genius_url] = lyrics if lyrics else \"Lyrics not found\"\n",
    "    return lyrics_cache[genius_url]\n",
    "\n",
    "for playlist_name, songs, artists in zip(playlist_data['Playlist_Name'], playlist_data['Playlist_Songs'], playlist_data['Playlist_Artists']):\n",
    "    print(f\"Grabbing Genius URLs for playlist: {playlist_name}\")\n",
    "    \n",
    "    success = False\n",
    "    while not success:\n",
    "        try:\n",
    "            # Use ThreadPoolExecutor to parallelize Genius URL fetching\n",
    "            with concurrent.futures.ThreadPoolExecutor() as executor:\n",
    "                genius_urls = list(executor.map(lambda sa: fetch_genius_url(*sa, genius_token), zip(songs, artists)))\n",
    "\n",
    "            # Use ThreadPoolExecutor to parallelize lyrics scraping\n",
    "            with concurrent.futures.ThreadPoolExecutor() as executor:\n",
    "                lyrics_list = list(executor.map(fetch_lyrics, genius_urls))\n",
    "\n",
    "            playlist_lyrics.append(lyrics_list)  # or extend(lyrics_list) if you want a flat list\n",
    "\n",
    "            success = True  # If everything is successful, exit the retry loop\n",
    "\n",
    "        except Exception as e:\n",
    "            print(f\"Error processing playlist '{playlist_name}': {e}. Retrying...\")\n",
    "            time.sleep(5)  # Optional delay before retrying\n",
    "\n",
    "# Add collected lyrics to the dataframe\n",
    "playlist_data = playlist_data.copy()\n",
    "playlist_data[\"Playlist_Lyrics\"] = playlist_lyrics\n",
    "\n",
    "# Sort and print the most frequent missing songs\n",
    "if failed_song_counts:\n",
    "    print(\"\\n🔹 **Most Frequently Missing Songs** 🔹\")\n",
    "    sorted_missing_songs = sorted(failed_song_counts.items(), key=lambda x: x[1], reverse=True)\n",
    "    for (song, artist), count in sorted_missing_songs[:10]:  # Show top 10 missing songs\n",
    "        print(f\"{song.title()} by {artist.title()} - Missing {count} times\")\n"
   ],
   "metadata": {
    "collapsed": false,
    "ExecuteTime": {
     "end_time": "2025-04-03T19:41:58.622805Z",
     "start_time": "2025-04-03T19:41:21.852146Z"
    }
   },
   "id": "47e61c298461bce5",
   "execution_count": 10
  },
  {
   "cell_type": "code",
   "outputs": [],
   "source": [
    "playlist_data.to_csv(\"Playlist_data_with_lyrics.csv\")"
   ],
   "metadata": {
    "collapsed": false,
    "ExecuteTime": {
     "end_time": "2025-03-26T13:37:00.282069Z",
     "start_time": "2025-03-26T13:36:56.326714Z"
    }
   },
   "id": "1b841af71fa71d2d",
   "execution_count": 12
  },
  {
   "cell_type": "code",
   "outputs": [
    {
     "data": {
      "text/plain": "153093"
     },
     "execution_count": 13,
     "metadata": {},
     "output_type": "execute_result"
    }
   ],
   "source": [
    "total_songs = sum(len(lyrics_list) for lyrics_list in playlist_data[\"Playlist_Lyrics\"])\n",
    "total_songs"
   ],
   "metadata": {
    "collapsed": false,
    "ExecuteTime": {
     "end_time": "2025-03-26T13:37:02.260696Z",
     "start_time": "2025-03-26T13:37:02.228247Z"
    }
   },
   "id": "2a261675cf61116d",
   "execution_count": 13
  },
  {
   "cell_type": "code",
   "outputs": [
    {
     "data": {
      "text/plain": "39030"
     },
     "execution_count": 14,
     "metadata": {},
     "output_type": "execute_result"
    }
   ],
   "source": [
    "lyrics_not_found_count = sum(lyrics_list.count(\"Lyrics not found\") for lyrics_list in playlist_data[\"Playlist_Lyrics\"])\n",
    "lyrics_not_found_count"
   ],
   "metadata": {
    "collapsed": false,
    "ExecuteTime": {
     "end_time": "2025-03-26T13:37:03.242156Z",
     "start_time": "2025-03-26T13:37:03.236758Z"
    }
   },
   "id": "fd1d66b10c6fecdb",
   "execution_count": 14
  },
  {
   "cell_type": "code",
   "outputs": [
    {
     "data": {
      "text/plain": "0.2549430738178754"
     },
     "execution_count": 16,
     "metadata": {},
     "output_type": "execute_result"
    }
   ],
   "source": [
    "lyrics_not_found_count / total_songs"
   ],
   "metadata": {
    "collapsed": false,
    "ExecuteTime": {
     "end_time": "2025-03-26T13:37:47.015342Z",
     "start_time": "2025-03-26T13:37:46.927371Z"
    }
   },
   "id": "be1c5936432ac9da",
   "execution_count": 16
  },
  {
   "cell_type": "code",
   "outputs": [],
   "source": [
    "len(genius_url_cache)"
   ],
   "metadata": {
    "collapsed": false,
    "ExecuteTime": {
     "end_time": "2025-03-25T19:28:59.157449Z",
     "start_time": "2025-03-25T19:28:59.156832Z"
    }
   },
   "id": "d02eb8080bfeab9f",
   "execution_count": null
  }
 ],
 "metadata": {
  "kernelspec": {
   "display_name": "Python 3",
   "language": "python",
   "name": "python3"
  },
  "language_info": {
   "codemirror_mode": {
    "name": "ipython",
    "version": 2
   },
   "file_extension": ".py",
   "mimetype": "text/x-python",
   "name": "python",
   "nbconvert_exporter": "python",
   "pygments_lexer": "ipython2",
   "version": "2.7.6"
  }
 },
 "nbformat": 4,
 "nbformat_minor": 5
}
